{
 "cells": [
  {
   "cell_type": "code",
   "execution_count": 1,
   "metadata": {},
   "outputs": [
    {
     "name": "stdout",
     "output_type": "stream",
     "text": [
      "Populating the interactive namespace from numpy and matplotlib\n"
     ]
    }
   ],
   "source": [
    "import yfinance as yf\n",
    "import pandas as pd\n",
    "from pandas import DataFrame\n",
    "import time\n",
    "import matplotlib.pyplot as plt\n",
    "import numpy\n",
    "%matplotlib inline\n",
    "%pylab inline"
   ]
  },
  {
   "cell_type": "markdown",
   "metadata": {},
   "source": [
    "Stocks imported from https://finance.yahoo.com "
   ]
  },
  {
   "cell_type": "code",
   "execution_count": 2,
   "metadata": {},
   "outputs": [
    {
     "name": "stdout",
     "output_type": "stream",
     "text": [
      "[*********************100%***********************]  5 of 5 downloaded\n"
     ]
    }
   ],
   "source": [
    "data = yf.download(\"AMD INTC INFY MSFT MU\" ,start=\"2009-01-01\" ,end=\"2019-01-01\")\n",
    "data.fillna(method='bfill' ,inplace=True)"
   ]
  },
  {
   "cell_type": "code",
   "execution_count": 3,
   "metadata": {},
   "outputs": [
    {
     "data": {
      "text/html": [
       "<div>\n",
       "<style scoped>\n",
       "    .dataframe tbody tr th:only-of-type {\n",
       "        vertical-align: middle;\n",
       "    }\n",
       "\n",
       "    .dataframe tbody tr th {\n",
       "        vertical-align: top;\n",
       "    }\n",
       "\n",
       "    .dataframe thead tr th {\n",
       "        text-align: left;\n",
       "    }\n",
       "\n",
       "    .dataframe thead tr:last-of-type th {\n",
       "        text-align: right;\n",
       "    }\n",
       "</style>\n",
       "<table border=\"1\" class=\"dataframe\">\n",
       "  <thead>\n",
       "    <tr>\n",
       "      <th></th>\n",
       "      <th colspan=\"5\" halign=\"left\">Adj Close</th>\n",
       "      <th colspan=\"5\" halign=\"left\">Close</th>\n",
       "      <th>...</th>\n",
       "      <th colspan=\"5\" halign=\"left\">Open</th>\n",
       "      <th colspan=\"5\" halign=\"left\">Volume</th>\n",
       "    </tr>\n",
       "    <tr>\n",
       "      <th></th>\n",
       "      <th>AMD</th>\n",
       "      <th>INFY</th>\n",
       "      <th>INTC</th>\n",
       "      <th>MSFT</th>\n",
       "      <th>MU</th>\n",
       "      <th>AMD</th>\n",
       "      <th>INFY</th>\n",
       "      <th>INTC</th>\n",
       "      <th>MSFT</th>\n",
       "      <th>MU</th>\n",
       "      <th>...</th>\n",
       "      <th>AMD</th>\n",
       "      <th>INFY</th>\n",
       "      <th>INTC</th>\n",
       "      <th>MSFT</th>\n",
       "      <th>MU</th>\n",
       "      <th>AMD</th>\n",
       "      <th>INFY</th>\n",
       "      <th>INTC</th>\n",
       "      <th>MSFT</th>\n",
       "      <th>MU</th>\n",
       "    </tr>\n",
       "    <tr>\n",
       "      <th>Date</th>\n",
       "      <th></th>\n",
       "      <th></th>\n",
       "      <th></th>\n",
       "      <th></th>\n",
       "      <th></th>\n",
       "      <th></th>\n",
       "      <th></th>\n",
       "      <th></th>\n",
       "      <th></th>\n",
       "      <th></th>\n",
       "      <th></th>\n",
       "      <th></th>\n",
       "      <th></th>\n",
       "      <th></th>\n",
       "      <th></th>\n",
       "      <th></th>\n",
       "      <th></th>\n",
       "      <th></th>\n",
       "      <th></th>\n",
       "      <th></th>\n",
       "      <th></th>\n",
       "    </tr>\n",
       "  </thead>\n",
       "  <tbody>\n",
       "    <tr>\n",
       "      <td>2008-12-31</td>\n",
       "      <td>2.16</td>\n",
       "      <td>2.22</td>\n",
       "      <td>10.46</td>\n",
       "      <td>15.00</td>\n",
       "      <td>2.64</td>\n",
       "      <td>2.16</td>\n",
       "      <td>3.07</td>\n",
       "      <td>14.66</td>\n",
       "      <td>19.44</td>\n",
       "      <td>2.64</td>\n",
       "      <td>...</td>\n",
       "      <td>2.20</td>\n",
       "      <td>3.06</td>\n",
       "      <td>14.71</td>\n",
       "      <td>19.31</td>\n",
       "      <td>2.44</td>\n",
       "      <td>10226500</td>\n",
       "      <td>7721600</td>\n",
       "      <td>34063800</td>\n",
       "      <td>46419000</td>\n",
       "      <td>11978200</td>\n",
       "    </tr>\n",
       "    <tr>\n",
       "      <td>2009-01-02</td>\n",
       "      <td>2.38</td>\n",
       "      <td>2.28</td>\n",
       "      <td>10.85</td>\n",
       "      <td>15.69</td>\n",
       "      <td>2.84</td>\n",
       "      <td>2.38</td>\n",
       "      <td>3.14</td>\n",
       "      <td>15.20</td>\n",
       "      <td>20.33</td>\n",
       "      <td>2.84</td>\n",
       "      <td>...</td>\n",
       "      <td>2.19</td>\n",
       "      <td>3.06</td>\n",
       "      <td>14.69</td>\n",
       "      <td>19.53</td>\n",
       "      <td>2.65</td>\n",
       "      <td>13832100</td>\n",
       "      <td>14917600</td>\n",
       "      <td>52208200</td>\n",
       "      <td>50084000</td>\n",
       "      <td>17537200</td>\n",
       "    </tr>\n",
       "    <tr>\n",
       "      <td>2009-01-05</td>\n",
       "      <td>2.67</td>\n",
       "      <td>2.35</td>\n",
       "      <td>10.64</td>\n",
       "      <td>15.83</td>\n",
       "      <td>3.32</td>\n",
       "      <td>2.67</td>\n",
       "      <td>3.25</td>\n",
       "      <td>14.91</td>\n",
       "      <td>20.52</td>\n",
       "      <td>3.32</td>\n",
       "      <td>...</td>\n",
       "      <td>2.37</td>\n",
       "      <td>3.10</td>\n",
       "      <td>15.07</td>\n",
       "      <td>20.20</td>\n",
       "      <td>2.94</td>\n",
       "      <td>19326900</td>\n",
       "      <td>20835200</td>\n",
       "      <td>57320400</td>\n",
       "      <td>61475200</td>\n",
       "      <td>36158500</td>\n",
       "    </tr>\n",
       "    <tr>\n",
       "      <td>2009-01-06</td>\n",
       "      <td>2.78</td>\n",
       "      <td>2.41</td>\n",
       "      <td>10.97</td>\n",
       "      <td>16.02</td>\n",
       "      <td>3.47</td>\n",
       "      <td>2.78</td>\n",
       "      <td>3.33</td>\n",
       "      <td>15.37</td>\n",
       "      <td>20.76</td>\n",
       "      <td>3.47</td>\n",
       "      <td>...</td>\n",
       "      <td>2.75</td>\n",
       "      <td>3.25</td>\n",
       "      <td>15.09</td>\n",
       "      <td>20.75</td>\n",
       "      <td>3.40</td>\n",
       "      <td>23860000</td>\n",
       "      <td>30572000</td>\n",
       "      <td>61631400</td>\n",
       "      <td>58083400</td>\n",
       "      <td>30659700</td>\n",
       "    </tr>\n",
       "    <tr>\n",
       "      <td>2009-01-07</td>\n",
       "      <td>2.66</td>\n",
       "      <td>2.44</td>\n",
       "      <td>10.31</td>\n",
       "      <td>15.06</td>\n",
       "      <td>3.28</td>\n",
       "      <td>2.66</td>\n",
       "      <td>3.37</td>\n",
       "      <td>14.44</td>\n",
       "      <td>19.51</td>\n",
       "      <td>3.28</td>\n",
       "      <td>...</td>\n",
       "      <td>2.72</td>\n",
       "      <td>3.17</td>\n",
       "      <td>14.79</td>\n",
       "      <td>20.19</td>\n",
       "      <td>3.48</td>\n",
       "      <td>14026300</td>\n",
       "      <td>51324800</td>\n",
       "      <td>131389200</td>\n",
       "      <td>72709900</td>\n",
       "      <td>25676100</td>\n",
       "    </tr>\n",
       "  </tbody>\n",
       "</table>\n",
       "<p>5 rows × 30 columns</p>\n",
       "</div>"
      ],
      "text/plain": [
       "           Adj Close                           Close                      \\\n",
       "                 AMD  INFY   INTC   MSFT    MU   AMD  INFY   INTC   MSFT   \n",
       "Date                                                                       \n",
       "2008-12-31      2.16  2.22  10.46  15.00  2.64  2.16  3.07  14.66  19.44   \n",
       "2009-01-02      2.38  2.28  10.85  15.69  2.84  2.38  3.14  15.20  20.33   \n",
       "2009-01-05      2.67  2.35  10.64  15.83  3.32  2.67  3.25  14.91  20.52   \n",
       "2009-01-06      2.78  2.41  10.97  16.02  3.47  2.78  3.33  15.37  20.76   \n",
       "2009-01-07      2.66  2.44  10.31  15.06  3.28  2.66  3.37  14.44  19.51   \n",
       "\n",
       "                  ...  Open                              Volume            \\\n",
       "              MU  ...   AMD  INFY   INTC   MSFT    MU       AMD      INFY   \n",
       "Date              ...                                                       \n",
       "2008-12-31  2.64  ...  2.20  3.06  14.71  19.31  2.44  10226500   7721600   \n",
       "2009-01-02  2.84  ...  2.19  3.06  14.69  19.53  2.65  13832100  14917600   \n",
       "2009-01-05  3.32  ...  2.37  3.10  15.07  20.20  2.94  19326900  20835200   \n",
       "2009-01-06  3.47  ...  2.75  3.25  15.09  20.75  3.40  23860000  30572000   \n",
       "2009-01-07  3.28  ...  2.72  3.17  14.79  20.19  3.48  14026300  51324800   \n",
       "\n",
       "                                           \n",
       "                 INTC      MSFT        MU  \n",
       "Date                                       \n",
       "2008-12-31   34063800  46419000  11978200  \n",
       "2009-01-02   52208200  50084000  17537200  \n",
       "2009-01-05   57320400  61475200  36158500  \n",
       "2009-01-06   61631400  58083400  30659700  \n",
       "2009-01-07  131389200  72709900  25676100  \n",
       "\n",
       "[5 rows x 30 columns]"
      ]
     },
     "execution_count": 3,
     "metadata": {},
     "output_type": "execute_result"
    }
   ],
   "source": [
    "data.head()"
   ]
  },
  {
   "cell_type": "code",
   "execution_count": 4,
   "metadata": {},
   "outputs": [],
   "source": [
    "pylab.rcParams['figure.figsize'] = (15 , 9)"
   ]
  },
  {
   "cell_type": "markdown",
   "metadata": {},
   "source": [
    "# Plot historical price from 2009 to 2019"
   ]
  },
  {
   "cell_type": "markdown",
   "metadata": {},
   "source": [
    "Use Adj Close as historical price"
   ]
  },
  {
   "cell_type": "code",
   "execution_count": 5,
   "metadata": {},
   "outputs": [
    {
     "data": {
      "text/plain": [
       "<matplotlib.axes._subplots.AxesSubplot at 0x125c3630>"
      ]
     },
     "execution_count": 5,
     "metadata": {},
     "output_type": "execute_result"
    },
    {
     "data": {
      "image/png": "[encoded data removed]",
      "text/plain": [
       "<Figure size 1080x648 with 1 Axes>"
      ]
     },
     "metadata": {
      "needs_background": "light"
     },
     "output_type": "display_data"
    }
   ],
   "source": [
    "historical_price = data[\"Adj Close\"]\n",
    "historical_price.plot(grid = True)"
   ]
  },
  {
   "cell_type": "markdown",
   "metadata": {},
   "source": [
    "# Plot simple daily returns from 2009 to 2019"
   ]
  },
  {
   "cell_type": "markdown",
   "metadata": {},
   "source": [
    "To calculate simple return use formula:  r[ t ] = ( p[ t ] - p[ t-1 ] ) / p[ t-1 ]\n",
    "\n",
    "    r = simple return from time t-1 to time t\n",
    "    p = price of an asset at time t\n",
    "    t = time"
   ]
  },
  {
   "cell_type": "code",
   "execution_count": 6,
   "metadata": {},
   "outputs": [],
   "source": [
    "P = data[\"Adj Close\"]\n",
    "price = P.reset_index().values.tolist() #Convert dataframe and it's index to list "
   ]
  },
  {
   "cell_type": "code",
   "execution_count": 7,
   "metadata": {},
   "outputs": [],
   "source": [
    "simple_returns = list()\n",
    "simple_returns_each_day = []\n",
    "for t in range(len(price)):\n",
    "    if t==0:\n",
    "        continue #pass 2008-12-31\n",
    "    simple_returns_each_day = [] \n",
    "    simple_returns_each_day.append(price[t][0])\n",
    "    \n",
    "    for num_stock in range(1,6):\n",
    "        r = (price[t][num_stock] - price[t-1][num_stock])/price[t-1][num_stock] \n",
    "        simple_returns_each_day.append(r)\n",
    "        \n",
    "    simple_returns.append( simple_returns_each_day )"
   ]
  },
  {
   "cell_type": "code",
   "execution_count": 8,
   "metadata": {},
   "outputs": [],
   "source": [
    "simple_returns = pd.DataFrame(simple_returns ,columns=['Date','AMD', 'INFY' ,'INTC' ,'MSFT' ,'MU']) #Convert list to dataframe\n",
    "simple_returns.set_index('Date',inplace=True)"
   ]
  },
  {
   "cell_type": "code",
   "execution_count": 9,
   "metadata": {},
   "outputs": [
    {
     "data": {
      "text/html": [
       "<div>\n",
       "<style scoped>\n",
       "    .dataframe tbody tr th:only-of-type {\n",
       "        vertical-align: middle;\n",
       "    }\n",
       "\n",
       "    .dataframe tbody tr th {\n",
       "        vertical-align: top;\n",
       "    }\n",
       "\n",
       "    .dataframe thead th {\n",
       "        text-align: right;\n",
       "    }\n",
       "</style>\n",
       "<table border=\"1\" class=\"dataframe\">\n",
       "  <thead>\n",
       "    <tr style=\"text-align: right;\">\n",
       "      <th></th>\n",
       "      <th>AMD</th>\n",
       "      <th>INFY</th>\n",
       "      <th>INTC</th>\n",
       "      <th>MSFT</th>\n",
       "      <th>MU</th>\n",
       "    </tr>\n",
       "    <tr>\n",
       "      <th>Date</th>\n",
       "      <th></th>\n",
       "      <th></th>\n",
       "      <th></th>\n",
       "      <th></th>\n",
       "      <th></th>\n",
       "    </tr>\n",
       "  </thead>\n",
       "  <tbody>\n",
       "    <tr>\n",
       "      <td>2009-01-02</td>\n",
       "      <td>0.101852</td>\n",
       "      <td>0.027027</td>\n",
       "      <td>0.037285</td>\n",
       "      <td>0.046000</td>\n",
       "      <td>0.075758</td>\n",
       "    </tr>\n",
       "    <tr>\n",
       "      <td>2009-01-05</td>\n",
       "      <td>0.121849</td>\n",
       "      <td>0.030702</td>\n",
       "      <td>-0.019355</td>\n",
       "      <td>0.008923</td>\n",
       "      <td>0.169014</td>\n",
       "    </tr>\n",
       "    <tr>\n",
       "      <td>2009-01-06</td>\n",
       "      <td>0.041199</td>\n",
       "      <td>0.025532</td>\n",
       "      <td>0.031015</td>\n",
       "      <td>0.012003</td>\n",
       "      <td>0.045181</td>\n",
       "    </tr>\n",
       "    <tr>\n",
       "      <td>2009-01-07</td>\n",
       "      <td>-0.043165</td>\n",
       "      <td>0.012448</td>\n",
       "      <td>-0.060164</td>\n",
       "      <td>-0.059925</td>\n",
       "      <td>-0.054755</td>\n",
       "    </tr>\n",
       "    <tr>\n",
       "      <td>2009-01-08</td>\n",
       "      <td>0.030075</td>\n",
       "      <td>-0.012295</td>\n",
       "      <td>0.006790</td>\n",
       "      <td>0.031208</td>\n",
       "      <td>0.039634</td>\n",
       "    </tr>\n",
       "    <tr>\n",
       "      <td>...</td>\n",
       "      <td>...</td>\n",
       "      <td>...</td>\n",
       "      <td>...</td>\n",
       "      <td>...</td>\n",
       "      <td>...</td>\n",
       "    </tr>\n",
       "    <tr>\n",
       "      <td>2018-12-24</td>\n",
       "      <td>-0.016539</td>\n",
       "      <td>-0.002240</td>\n",
       "      <td>-0.027961</td>\n",
       "      <td>-0.041800</td>\n",
       "      <td>-0.042876</td>\n",
       "    </tr>\n",
       "    <tr>\n",
       "      <td>2018-12-26</td>\n",
       "      <td>0.075075</td>\n",
       "      <td>0.032548</td>\n",
       "      <td>0.059635</td>\n",
       "      <td>0.068336</td>\n",
       "      <td>0.064438</td>\n",
       "    </tr>\n",
       "    <tr>\n",
       "      <td>2018-12-27</td>\n",
       "      <td>-0.022905</td>\n",
       "      <td>0.007609</td>\n",
       "      <td>0.003752</td>\n",
       "      <td>0.006236</td>\n",
       "      <td>0.033668</td>\n",
       "    </tr>\n",
       "    <tr>\n",
       "      <td>2018-12-28</td>\n",
       "      <td>0.018868</td>\n",
       "      <td>-0.002157</td>\n",
       "      <td>0.008355</td>\n",
       "      <td>-0.007896</td>\n",
       "      <td>-0.011275</td>\n",
       "    </tr>\n",
       "    <tr>\n",
       "      <td>2018-12-31</td>\n",
       "      <td>0.035915</td>\n",
       "      <td>0.009730</td>\n",
       "      <td>0.003925</td>\n",
       "      <td>0.011787</td>\n",
       "      <td>0.005068</td>\n",
       "    </tr>\n",
       "  </tbody>\n",
       "</table>\n",
       "<p>2516 rows × 5 columns</p>\n",
       "</div>"
      ],
      "text/plain": [
       "                 AMD      INFY      INTC      MSFT        MU\n",
       "Date                                                        \n",
       "2009-01-02  0.101852  0.027027  0.037285  0.046000  0.075758\n",
       "2009-01-05  0.121849  0.030702 -0.019355  0.008923  0.169014\n",
       "2009-01-06  0.041199  0.025532  0.031015  0.012003  0.045181\n",
       "2009-01-07 -0.043165  0.012448 -0.060164 -0.059925 -0.054755\n",
       "2009-01-08  0.030075 -0.012295  0.006790  0.031208  0.039634\n",
       "...              ...       ...       ...       ...       ...\n",
       "2018-12-24 -0.016539 -0.002240 -0.027961 -0.041800 -0.042876\n",
       "2018-12-26  0.075075  0.032548  0.059635  0.068336  0.064438\n",
       "2018-12-27 -0.022905  0.007609  0.003752  0.006236  0.033668\n",
       "2018-12-28  0.018868 -0.002157  0.008355 -0.007896 -0.011275\n",
       "2018-12-31  0.035915  0.009730  0.003925  0.011787  0.005068\n",
       "\n",
       "[2516 rows x 5 columns]"
      ]
     },
     "execution_count": 9,
     "metadata": {},
     "output_type": "execute_result"
    }
   ],
   "source": [
    "simple_returns"
   ]
  },
  {
   "cell_type": "code",
   "execution_count": 10,
   "metadata": {},
   "outputs": [
    {
     "data": {
      "text/plain": [
       "<matplotlib.axes._subplots.AxesSubplot at 0x12edc990>"
      ]
     },
     "execution_count": 10,
     "metadata": {},
     "output_type": "execute_result"
    },
    {
     "data": {
      "image/png": "[encoded data removed]",
      "text/plain": [
       "<Figure size 720x504 with 1 Axes>"
      ]
     },
     "metadata": {
      "needs_background": "light"
     },
     "output_type": "display_data"
    }
   ],
   "source": [
    "pylab.rcParams['figure.figsize'] = (10 ,7)\n",
    "simple_returns['AMD'].plot(grid = True ,ylim=(-0.6,0.6) ,title=\"AMD Simple Daily Returns\")"
   ]
  },
  {
   "cell_type": "code",
   "execution_count": 11,
   "metadata": {},
   "outputs": [
    {
     "data": {
      "text/plain": [
       "<matplotlib.axes._subplots.AxesSubplot at 0x12eeb8f0>"
      ]
     },
     "execution_count": 11,
     "metadata": {},
     "output_type": "execute_result"
    },
    {
     "data": {
      "image/png": "[encoded data removed]",
      "text/plain": [
       "<Figure size 720x504 with 1 Axes>"
      ]
     },
     "metadata": {
      "needs_background": "light"
     },
     "output_type": "display_data"
    }
   ],
   "source": [
    "simple_returns['INTC'].plot(grid = True ,ylim=(-0.6,0.6) ,title=\"INTC Simple Daily Returns\")"
   ]
  },
  {
   "cell_type": "code",
   "execution_count": 12,
   "metadata": {},
   "outputs": [
    {
     "data": {
      "text/plain": [
       "<matplotlib.axes._subplots.AxesSubplot at 0x12f80bf0>"
      ]
     },
     "execution_count": 12,
     "metadata": {},
     "output_type": "execute_result"
    },
    {
     "data": {
      "image/png": "[encoded data removed]",
      "text/plain": [
       "<Figure size 720x504 with 1 Axes>"
      ]
     },
     "metadata": {
      "needs_background": "light"
     },
     "output_type": "display_data"
    }
   ],
   "source": [
    "simple_returns['INFY'].plot(grid = True ,ylim=(-0.6,0.6) ,title=\"INFY Simple Daily Returns\")"
   ]
  },
  {
   "cell_type": "code",
   "execution_count": 13,
   "metadata": {},
   "outputs": [
    {
     "data": {
      "text/plain": [
       "<matplotlib.axes._subplots.AxesSubplot at 0x130cffb0>"
      ]
     },
     "execution_count": 13,
     "metadata": {},
     "output_type": "execute_result"
    },
    {
     "data": {
      "image/png": "[encoded data removed]",
      "text/plain": [
       "<Figure size 720x504 with 1 Axes>"
      ]
     },
     "metadata": {
      "needs_background": "light"
     },
     "output_type": "display_data"
    }
   ],
   "source": [
    "simple_returns['MSFT'].plot(grid = True ,ylim=(-0.6,0.6) ,title=\"MSFT Simple Daily Returns\")"
   ]
  },
  {
   "cell_type": "code",
   "execution_count": 14,
   "metadata": {},
   "outputs": [
    {
     "data": {
      "text/plain": [
       "<matplotlib.axes._subplots.AxesSubplot at 0x146467b0>"
      ]
     },
     "execution_count": 14,
     "metadata": {},
     "output_type": "execute_result"
    },
    {
     "data": {
      "image/png": "[encoded data removed]",
      "text/plain": [
       "<Figure size 720x504 with 1 Axes>"
      ]
     },
     "metadata": {
      "needs_background": "light"
     },
     "output_type": "display_data"
    }
   ],
   "source": [
    "simple_returns['MU'].plot(grid = True ,ylim=(-0.6,0.6) ,title=\"MU Simple Daily Returns\")"
   ]
  },
  {
   "cell_type": "markdown",
   "metadata": {},
   "source": [
    "# Plot log daily returns from 2009 to 2019"
   ]
  },
  {
   "cell_type": "markdown",
   "metadata": {},
   "source": [
    "To Calculate log return use fomular: r = ln ( P[ t ] / P [ t-1 ] ) = ln(P[ t ]) - ln(P[ t-1 ])\n",
    "\n",
    "    r = simple return from time t-1 to time t\n",
    "    p = price of an asset at time t\n",
    "    t = time"
   ]
  },
  {
   "cell_type": "code",
   "execution_count": 15,
   "metadata": {},
   "outputs": [],
   "source": [
    "# P = data[\"Adj Close\"]\n",
    "# price = P.reset_index().values.tolist() \n",
    "log_returns = list()\n",
    "log_returns_each_day = []\n",
    "for t in range(len(price)):\n",
    "    if t==0:\n",
    "        continue #pass 2008-12-31\n",
    "        \n",
    "    log_returns_each_day = []\n",
    "    log_returns_each_day.append(price[t][0])\n",
    "    \n",
    "    for num_stock in range(1,6):\n",
    "        r = np.log(price[t][num_stock]) - np.log(price[t-1][num_stock])\n",
    "        log_returns_each_day.append(r)\n",
    "        \n",
    "    log_returns.append(log_returns_each_day)"
   ]
  },
  {
   "cell_type": "code",
   "execution_count": 16,
   "metadata": {},
   "outputs": [],
   "source": [
    "log_returns = pd.DataFrame(log_returns ,columns=['Date','AMD', 'INFY' ,'INTC' ,'MSFT' ,'MU']) #Convert list to dataframe\n",
    "log_returns.set_index('Date',inplace=True)"
   ]
  },
  {
   "cell_type": "code",
   "execution_count": 17,
   "metadata": {},
   "outputs": [
    {
     "data": {
      "text/html": [
       "<div>\n",
       "<style scoped>\n",
       "    .dataframe tbody tr th:only-of-type {\n",
       "        vertical-align: middle;\n",
       "    }\n",
       "\n",
       "    .dataframe tbody tr th {\n",
       "        vertical-align: top;\n",
       "    }\n",
       "\n",
       "    .dataframe thead th {\n",
       "        text-align: right;\n",
       "    }\n",
       "</style>\n",
       "<table border=\"1\" class=\"dataframe\">\n",
       "  <thead>\n",
       "    <tr style=\"text-align: right;\">\n",
       "      <th></th>\n",
       "      <th>AMD</th>\n",
       "      <th>INFY</th>\n",
       "      <th>INTC</th>\n",
       "      <th>MSFT</th>\n",
       "      <th>MU</th>\n",
       "    </tr>\n",
       "    <tr>\n",
       "      <th>Date</th>\n",
       "      <th></th>\n",
       "      <th></th>\n",
       "      <th></th>\n",
       "      <th></th>\n",
       "      <th></th>\n",
       "    </tr>\n",
       "  </thead>\n",
       "  <tbody>\n",
       "    <tr>\n",
       "      <td>2009-01-02</td>\n",
       "      <td>0.096992</td>\n",
       "      <td>0.026668</td>\n",
       "      <td>0.036607</td>\n",
       "      <td>0.044973</td>\n",
       "      <td>0.073025</td>\n",
       "    </tr>\n",
       "    <tr>\n",
       "      <td>2009-01-05</td>\n",
       "      <td>0.114978</td>\n",
       "      <td>0.030240</td>\n",
       "      <td>-0.019545</td>\n",
       "      <td>0.008883</td>\n",
       "      <td>0.156161</td>\n",
       "    </tr>\n",
       "    <tr>\n",
       "      <td>2009-01-06</td>\n",
       "      <td>0.040372</td>\n",
       "      <td>0.025211</td>\n",
       "      <td>0.030544</td>\n",
       "      <td>0.011931</td>\n",
       "      <td>0.044190</td>\n",
       "    </tr>\n",
       "    <tr>\n",
       "      <td>2009-01-07</td>\n",
       "      <td>-0.044125</td>\n",
       "      <td>0.012371</td>\n",
       "      <td>-0.062050</td>\n",
       "      <td>-0.061796</td>\n",
       "      <td>-0.056311</td>\n",
       "    </tr>\n",
       "    <tr>\n",
       "      <td>2009-01-08</td>\n",
       "      <td>0.029632</td>\n",
       "      <td>-0.012371</td>\n",
       "      <td>0.006767</td>\n",
       "      <td>0.030731</td>\n",
       "      <td>0.038869</td>\n",
       "    </tr>\n",
       "    <tr>\n",
       "      <td>...</td>\n",
       "      <td>...</td>\n",
       "      <td>...</td>\n",
       "      <td>...</td>\n",
       "      <td>...</td>\n",
       "      <td>...</td>\n",
       "    </tr>\n",
       "    <tr>\n",
       "      <td>2018-12-24</td>\n",
       "      <td>-0.016677</td>\n",
       "      <td>-0.002242</td>\n",
       "      <td>-0.028359</td>\n",
       "      <td>-0.042698</td>\n",
       "      <td>-0.043822</td>\n",
       "    </tr>\n",
       "    <tr>\n",
       "      <td>2018-12-26</td>\n",
       "      <td>0.072390</td>\n",
       "      <td>0.032029</td>\n",
       "      <td>0.057925</td>\n",
       "      <td>0.066102</td>\n",
       "      <td>0.062447</td>\n",
       "    </tr>\n",
       "    <tr>\n",
       "      <td>2018-12-27</td>\n",
       "      <td>-0.023171</td>\n",
       "      <td>0.007580</td>\n",
       "      <td>0.003745</td>\n",
       "      <td>0.006216</td>\n",
       "      <td>0.033113</td>\n",
       "    </tr>\n",
       "    <tr>\n",
       "      <td>2018-12-28</td>\n",
       "      <td>0.018692</td>\n",
       "      <td>-0.002160</td>\n",
       "      <td>0.008321</td>\n",
       "      <td>-0.007927</td>\n",
       "      <td>-0.011339</td>\n",
       "    </tr>\n",
       "    <tr>\n",
       "      <td>2018-12-31</td>\n",
       "      <td>0.035285</td>\n",
       "      <td>0.009683</td>\n",
       "      <td>0.003917</td>\n",
       "      <td>0.011718</td>\n",
       "      <td>0.005055</td>\n",
       "    </tr>\n",
       "  </tbody>\n",
       "</table>\n",
       "<p>2516 rows × 5 columns</p>\n",
       "</div>"
      ],
      "text/plain": [
       "                 AMD      INFY      INTC      MSFT        MU\n",
       "Date                                                        \n",
       "2009-01-02  0.096992  0.026668  0.036607  0.044973  0.073025\n",
       "2009-01-05  0.114978  0.030240 -0.019545  0.008883  0.156161\n",
       "2009-01-06  0.040372  0.025211  0.030544  0.011931  0.044190\n",
       "2009-01-07 -0.044125  0.012371 -0.062050 -0.061796 -0.056311\n",
       "2009-01-08  0.029632 -0.012371  0.006767  0.030731  0.038869\n",
       "...              ...       ...       ...       ...       ...\n",
       "2018-12-24 -0.016677 -0.002242 -0.028359 -0.042698 -0.043822\n",
       "2018-12-26  0.072390  0.032029  0.057925  0.066102  0.062447\n",
       "2018-12-27 -0.023171  0.007580  0.003745  0.006216  0.033113\n",
       "2018-12-28  0.018692 -0.002160  0.008321 -0.007927 -0.011339\n",
       "2018-12-31  0.035285  0.009683  0.003917  0.011718  0.005055\n",
       "\n",
       "[2516 rows x 5 columns]"
      ]
     },
     "execution_count": 17,
     "metadata": {},
     "output_type": "execute_result"
    }
   ],
   "source": [
    "log_returns"
   ]
  },
  {
   "cell_type": "code",
   "execution_count": 18,
   "metadata": {},
   "outputs": [
    {
     "data": {
      "text/plain": [
       "<matplotlib.axes._subplots.AxesSubplot at 0x143b3dd0>"
      ]
     },
     "execution_count": 18,
     "metadata": {},
     "output_type": "execute_result"
    },
    {
     "data": {
      "image/png": "[encoded data removed]",
      "text/plain": [
       "<Figure size 720x504 with 1 Axes>"
      ]
     },
     "metadata": {
      "needs_background": "light"
     },
     "output_type": "display_data"
    }
   ],
   "source": [
    "log_returns['AMD'].plot(grid = True ,ylim=(-0.5,0.5) ,title=\"AMD Log Daily Returns\")"
   ]
  },
  {
   "cell_type": "code",
   "execution_count": 19,
   "metadata": {},
   "outputs": [
    {
     "data": {
      "text/plain": [
       "<matplotlib.axes._subplots.AxesSubplot at 0x147ebf70>"
      ]
     },
     "execution_count": 19,
     "metadata": {},
     "output_type": "execute_result"
    },
    {
     "data": {
      "image/png": "[encoded data removed]",
      "text/plain": [
       "<Figure size 720x504 with 1 Axes>"
      ]
     },
     "metadata": {
      "needs_background": "light"
     },
     "output_type": "display_data"
    }
   ],
   "source": [
    "log_returns['INTC'].plot(grid = True ,ylim=(-0.5,0.5) ,title=\"INTC Log Daily Returns\")"
   ]
  },
  {
   "cell_type": "code",
   "execution_count": 20,
   "metadata": {},
   "outputs": [
    {
     "data": {
      "text/plain": [
       "<matplotlib.axes._subplots.AxesSubplot at 0x14a84370>"
      ]
     },
     "execution_count": 20,
     "metadata": {},
     "output_type": "execute_result"
    },
    {
     "data": {
      "image/png": "[encoded data removed]",
      "text/plain": [
       "<Figure size 720x504 with 1 Axes>"
      ]
     },
     "metadata": {
      "needs_background": "light"
     },
     "output_type": "display_data"
    }
   ],
   "source": [
    "log_returns['INFY'].plot(grid = True ,ylim=(-0.5,0.5) ,title=\"INFY Log Daily Returns\")"
   ]
  },
  {
   "cell_type": "code",
   "execution_count": 21,
   "metadata": {},
   "outputs": [
    {
     "data": {
      "text/plain": [
       "<matplotlib.axes._subplots.AxesSubplot at 0x15b96bf0>"
      ]
     },
     "execution_count": 21,
     "metadata": {},
     "output_type": "execute_result"
    },
    {
     "data": {
      "image/png": "[encoded data removed]",
      "text/plain": [
       "<Figure size 720x504 with 1 Axes>"
      ]
     },
     "metadata": {
      "needs_background": "light"
     },
     "output_type": "display_data"
    }
   ],
   "source": [
    "log_returns['MSFT'].plot(grid = True ,ylim=(-0.5,0.5) ,title=\"MSFT Log Daily Returns\")"
   ]
  },
  {
   "cell_type": "code",
   "execution_count": 22,
   "metadata": {},
   "outputs": [
    {
     "data": {
      "text/plain": [
       "<matplotlib.axes._subplots.AxesSubplot at 0x1482ad90>"
      ]
     },
     "execution_count": 22,
     "metadata": {},
     "output_type": "execute_result"
    },
    {
     "data": {
      "image/png": "[encoded data removed]",
      "text/plain": [
       "<Figure size 720x504 with 1 Axes>"
      ]
     },
     "metadata": {
      "needs_background": "light"
     },
     "output_type": "display_data"
    }
   ],
   "source": [
    "log_returns['MU'].plot(grid = True ,ylim=(-0.5,0.5) ,title=\"MU Log Daily Returns\")"
   ]
  },
  {
   "cell_type": "markdown",
   "metadata": {},
   "source": [
    "# Annualized Return (Average Return)"
   ]
  },
  {
   "cell_type": "markdown",
   "metadata": {},
   "source": [
    "    1. Count days in each year.\n",
    "    2. Calculate the annualized return for each year.\n",
    "    3. Plot the annualized return for each year.\n",
    "    \n",
    "To calculate annualized returns use formula: Annualized Return = ((1 + R1) * (1 + R2) * (1 + R3) * ... * (1 + Rn))^(365/n)  - 1\n",
    "\n",
    "    R = simple daily returns\n",
    "    n = # days per year"
   ]
  },
  {
   "cell_type": "code",
   "execution_count": 23,
   "metadata": {
    "scrolled": true
   },
   "outputs": [],
   "source": [
    "#Set up parameters\n",
    "date = simple_returns.reset_index()[\"Date\"].dt \n",
    "year = date.year.values.tolist()\n",
    "R = simple_returns.reset_index().values.tolist()\n",
    "annualize = [] #To collect aunualized returns\n",
    "days_per_year = [] #To check the number of days in each year\n",
    "current_year = 2009\n",
    "days = 0\n",
    "r_each = [1,1,1,1,1]\n",
    "annualize_each_year = []"
   ]
  },
  {
   "cell_type": "code",
   "execution_count": 24,
   "metadata": {},
   "outputs": [],
   "source": [
    "for t in range(len(year)):\n",
    "    if year[t] == current_year:\n",
    "        for num_stock in range(1,6):\n",
    "            r = r_each[num_stock-1] * (1 + R[t][num_stock]) #Calculates annualized returns\n",
    "            r_each[num_stock-1] = r\n",
    "        days = days + 1\n",
    "    else: \n",
    "        annualize_each_year.append(current_year)\n",
    "        for num_stock in range(1,6):\n",
    "            r_each[num_stock-1] = np.power(  r_each[num_stock-1] ,(365/days)) - 1 #Calculates annualized returns\n",
    "            annualize_each_year.append( r_each[num_stock-1] )\n",
    "        days_per_year.append( [current_year, days] )  \n",
    "        annualize.append(annualize_each_year)\n",
    "        days = 0 #resets days\n",
    "        current_year = current_year+1 #update current year    \n",
    "        r_each = [1,1,1,1,1] #reset r_each\n",
    "        annualize_each_year = [] #reset annualize_each_year\n",
    "\n",
    "annualize_each_year.append(current_year)\n",
    "for num_stock in range(1,6):\n",
    "    r_each[num_stock-1] = np.power(  r_each[num_stock-1] ,(365/days)) - 1 #Calculates annualized returns\n",
    "    annualize_each_year.append( r_each[num_stock-1] )\n",
    "days_per_year.append( [current_year, days] ) \n",
    "annualize.append(annualize_each_year)"
   ]
  },
  {
   "cell_type": "code",
   "execution_count": 25,
   "metadata": {
    "scrolled": true
   },
   "outputs": [
    {
     "name": "stdout",
     "output_type": "stream",
     "text": [
      "[[2009, 252], [2010, 251], [2011, 251], [2012, 249], [2013, 251], [2014, 251], [2015, 251], [2016, 251], [2017, 250], [2018, 250]]\n"
     ]
    }
   ],
   "source": [
    "print(days_per_year)"
   ]
  },
  {
   "cell_type": "code",
   "execution_count": 26,
   "metadata": {},
   "outputs": [],
   "source": [
    "annualize = pd.DataFrame(annualize ,columns=['Year','AMD', 'INFY' ,'INTC' ,'MSFT' ,'MU']) #Convert list to dataframe"
   ]
  },
  {
   "cell_type": "code",
   "execution_count": 27,
   "metadata": {},
   "outputs": [
    {
     "data": {
      "text/html": [
       "<div>\n",
       "<style scoped>\n",
       "    .dataframe tbody tr th:only-of-type {\n",
       "        vertical-align: middle;\n",
       "    }\n",
       "\n",
       "    .dataframe tbody tr th {\n",
       "        vertical-align: top;\n",
       "    }\n",
       "\n",
       "    .dataframe thead th {\n",
       "        text-align: right;\n",
       "    }\n",
       "</style>\n",
       "<table border=\"1\" class=\"dataframe\">\n",
       "  <thead>\n",
       "    <tr style=\"text-align: right;\">\n",
       "      <th></th>\n",
       "      <th>AMD</th>\n",
       "      <th>INFY</th>\n",
       "      <th>INTC</th>\n",
       "      <th>MSFT</th>\n",
       "      <th>MU</th>\n",
       "    </tr>\n",
       "    <tr>\n",
       "      <th>Year</th>\n",
       "      <th></th>\n",
       "      <th></th>\n",
       "      <th></th>\n",
       "      <th></th>\n",
       "      <th></th>\n",
       "    </tr>\n",
       "  </thead>\n",
       "  <tbody>\n",
       "    <tr>\n",
       "      <td>2009</td>\n",
       "      <td>7.780663</td>\n",
       "      <td>2.307352</td>\n",
       "      <td>0.695407</td>\n",
       "      <td>0.983727</td>\n",
       "      <td>6.447857</td>\n",
       "    </tr>\n",
       "    <tr>\n",
       "      <td>2010</td>\n",
       "      <td>-0.219517</td>\n",
       "      <td>0.576066</td>\n",
       "      <td>0.056157</td>\n",
       "      <td>-0.113318</td>\n",
       "      <td>-0.355637</td>\n",
       "    </tr>\n",
       "    <tr>\n",
       "      <td>2011</td>\n",
       "      <td>-0.480336</td>\n",
       "      <td>-0.439885</td>\n",
       "      <td>0.310378</td>\n",
       "      <td>-0.068221</td>\n",
       "      <td>-0.329498</td>\n",
       "    </tr>\n",
       "    <tr>\n",
       "      <td>2012</td>\n",
       "      <td>-0.701883</td>\n",
       "      <td>-0.267995</td>\n",
       "      <td>-0.185156</td>\n",
       "      <td>0.037930</td>\n",
       "      <td>-0.089741</td>\n",
       "    </tr>\n",
       "    <tr>\n",
       "      <td>2013</td>\n",
       "      <td>0.855361</td>\n",
       "      <td>0.539496</td>\n",
       "      <td>0.403918</td>\n",
       "      <td>0.622952</td>\n",
       "      <td>4.627035</td>\n",
       "    </tr>\n",
       "    <tr>\n",
       "      <td>2014</td>\n",
       "      <td>-0.434199</td>\n",
       "      <td>0.355415</td>\n",
       "      <td>0.719946</td>\n",
       "      <td>0.438743</td>\n",
       "      <td>1.010232</td>\n",
       "    </tr>\n",
       "    <tr>\n",
       "      <td>2015</td>\n",
       "      <td>0.110756</td>\n",
       "      <td>0.112770</td>\n",
       "      <td>-0.034565</td>\n",
       "      <td>0.333560</td>\n",
       "      <td>-0.728964</td>\n",
       "    </tr>\n",
       "    <tr>\n",
       "      <td>2016</td>\n",
       "      <td>6.765224</td>\n",
       "      <td>-0.094667</td>\n",
       "      <td>0.152037</td>\n",
       "      <td>0.248764</td>\n",
       "      <td>0.855385</td>\n",
       "    </tr>\n",
       "    <tr>\n",
       "      <td>2017</td>\n",
       "      <td>-0.143431</td>\n",
       "      <td>0.247651</td>\n",
       "      <td>0.461534</td>\n",
       "      <td>0.629776</td>\n",
       "      <td>1.403940</td>\n",
       "    </tr>\n",
       "    <tr>\n",
       "      <td>2018</td>\n",
       "      <td>1.135103</td>\n",
       "      <td>0.323144</td>\n",
       "      <td>0.039650</td>\n",
       "      <td>0.308443</td>\n",
       "      <td>-0.372695</td>\n",
       "    </tr>\n",
       "  </tbody>\n",
       "</table>\n",
       "</div>"
      ],
      "text/plain": [
       "           AMD      INFY      INTC      MSFT        MU\n",
       "Year                                                  \n",
       "2009  7.780663  2.307352  0.695407  0.983727  6.447857\n",
       "2010 -0.219517  0.576066  0.056157 -0.113318 -0.355637\n",
       "2011 -0.480336 -0.439885  0.310378 -0.068221 -0.329498\n",
       "2012 -0.701883 -0.267995 -0.185156  0.037930 -0.089741\n",
       "2013  0.855361  0.539496  0.403918  0.622952  4.627035\n",
       "2014 -0.434199  0.355415  0.719946  0.438743  1.010232\n",
       "2015  0.110756  0.112770 -0.034565  0.333560 -0.728964\n",
       "2016  6.765224 -0.094667  0.152037  0.248764  0.855385\n",
       "2017 -0.143431  0.247651  0.461534  0.629776  1.403940\n",
       "2018  1.135103  0.323144  0.039650  0.308443 -0.372695"
      ]
     },
     "execution_count": 27,
     "metadata": {},
     "output_type": "execute_result"
    }
   ],
   "source": [
    "annualize.set_index('Year',inplace=True)\n",
    "annualize"
   ]
  },
  {
   "cell_type": "code",
   "execution_count": 28,
   "metadata": {},
   "outputs": [
    {
     "data": {
      "text/plain": [
       "<matplotlib.axes._subplots.AxesSubplot at 0x130a2ff0>"
      ]
     },
     "execution_count": 28,
     "metadata": {},
     "output_type": "execute_result"
    },
    {
     "data": {
      "image/png": "[encoded data removed]",
      "text/plain": [
       "<Figure size 720x504 with 1 Axes>"
      ]
     },
     "metadata": {
      "needs_background": "light"
     },
     "output_type": "display_data"
    }
   ],
   "source": [
    "annualize.plot(grid = True ,ylim=(-3,9) ,title=\"Annualized Returns For Each Stock\")"
   ]
  },
  {
   "cell_type": "markdown",
   "metadata": {},
   "source": [
    "# Covariance and Correlation Coefficient of Simple Daily Returns"
   ]
  },
  {
   "cell_type": "markdown",
   "metadata": {},
   "source": [
    "Use simple daily returns as daily returns."
   ]
  },
  {
   "cell_type": "code",
   "execution_count": 29,
   "metadata": {},
   "outputs": [
    {
     "data": {
      "text/html": [
       "<div>\n",
       "<style scoped>\n",
       "    .dataframe tbody tr th:only-of-type {\n",
       "        vertical-align: middle;\n",
       "    }\n",
       "\n",
       "    .dataframe tbody tr th {\n",
       "        vertical-align: top;\n",
       "    }\n",
       "\n",
       "    .dataframe thead th {\n",
       "        text-align: right;\n",
       "    }\n",
       "</style>\n",
       "<table border=\"1\" class=\"dataframe\">\n",
       "  <thead>\n",
       "    <tr style=\"text-align: right;\">\n",
       "      <th></th>\n",
       "      <th>AMD</th>\n",
       "      <th>INFY</th>\n",
       "      <th>INTC</th>\n",
       "      <th>MSFT</th>\n",
       "      <th>MU</th>\n",
       "    </tr>\n",
       "    <tr>\n",
       "      <th>Date</th>\n",
       "      <th></th>\n",
       "      <th></th>\n",
       "      <th></th>\n",
       "      <th></th>\n",
       "      <th></th>\n",
       "    </tr>\n",
       "  </thead>\n",
       "  <tbody>\n",
       "    <tr>\n",
       "      <td>2009-01-02</td>\n",
       "      <td>0.101852</td>\n",
       "      <td>0.027027</td>\n",
       "      <td>0.037285</td>\n",
       "      <td>0.046000</td>\n",
       "      <td>0.075758</td>\n",
       "    </tr>\n",
       "    <tr>\n",
       "      <td>2009-01-05</td>\n",
       "      <td>0.121849</td>\n",
       "      <td>0.030702</td>\n",
       "      <td>-0.019355</td>\n",
       "      <td>0.008923</td>\n",
       "      <td>0.169014</td>\n",
       "    </tr>\n",
       "    <tr>\n",
       "      <td>2009-01-06</td>\n",
       "      <td>0.041199</td>\n",
       "      <td>0.025532</td>\n",
       "      <td>0.031015</td>\n",
       "      <td>0.012003</td>\n",
       "      <td>0.045181</td>\n",
       "    </tr>\n",
       "    <tr>\n",
       "      <td>2009-01-07</td>\n",
       "      <td>-0.043165</td>\n",
       "      <td>0.012448</td>\n",
       "      <td>-0.060164</td>\n",
       "      <td>-0.059925</td>\n",
       "      <td>-0.054755</td>\n",
       "    </tr>\n",
       "    <tr>\n",
       "      <td>2009-01-08</td>\n",
       "      <td>0.030075</td>\n",
       "      <td>-0.012295</td>\n",
       "      <td>0.006790</td>\n",
       "      <td>0.031208</td>\n",
       "      <td>0.039634</td>\n",
       "    </tr>\n",
       "    <tr>\n",
       "      <td>...</td>\n",
       "      <td>...</td>\n",
       "      <td>...</td>\n",
       "      <td>...</td>\n",
       "      <td>...</td>\n",
       "      <td>...</td>\n",
       "    </tr>\n",
       "    <tr>\n",
       "      <td>2018-12-24</td>\n",
       "      <td>-0.016539</td>\n",
       "      <td>-0.002240</td>\n",
       "      <td>-0.027961</td>\n",
       "      <td>-0.041800</td>\n",
       "      <td>-0.042876</td>\n",
       "    </tr>\n",
       "    <tr>\n",
       "      <td>2018-12-26</td>\n",
       "      <td>0.075075</td>\n",
       "      <td>0.032548</td>\n",
       "      <td>0.059635</td>\n",
       "      <td>0.068336</td>\n",
       "      <td>0.064438</td>\n",
       "    </tr>\n",
       "    <tr>\n",
       "      <td>2018-12-27</td>\n",
       "      <td>-0.022905</td>\n",
       "      <td>0.007609</td>\n",
       "      <td>0.003752</td>\n",
       "      <td>0.006236</td>\n",
       "      <td>0.033668</td>\n",
       "    </tr>\n",
       "    <tr>\n",
       "      <td>2018-12-28</td>\n",
       "      <td>0.018868</td>\n",
       "      <td>-0.002157</td>\n",
       "      <td>0.008355</td>\n",
       "      <td>-0.007896</td>\n",
       "      <td>-0.011275</td>\n",
       "    </tr>\n",
       "    <tr>\n",
       "      <td>2018-12-31</td>\n",
       "      <td>0.035915</td>\n",
       "      <td>0.009730</td>\n",
       "      <td>0.003925</td>\n",
       "      <td>0.011787</td>\n",
       "      <td>0.005068</td>\n",
       "    </tr>\n",
       "  </tbody>\n",
       "</table>\n",
       "<p>2516 rows × 5 columns</p>\n",
       "</div>"
      ],
      "text/plain": [
       "                 AMD      INFY      INTC      MSFT        MU\n",
       "Date                                                        \n",
       "2009-01-02  0.101852  0.027027  0.037285  0.046000  0.075758\n",
       "2009-01-05  0.121849  0.030702 -0.019355  0.008923  0.169014\n",
       "2009-01-06  0.041199  0.025532  0.031015  0.012003  0.045181\n",
       "2009-01-07 -0.043165  0.012448 -0.060164 -0.059925 -0.054755\n",
       "2009-01-08  0.030075 -0.012295  0.006790  0.031208  0.039634\n",
       "...              ...       ...       ...       ...       ...\n",
       "2018-12-24 -0.016539 -0.002240 -0.027961 -0.041800 -0.042876\n",
       "2018-12-26  0.075075  0.032548  0.059635  0.068336  0.064438\n",
       "2018-12-27 -0.022905  0.007609  0.003752  0.006236  0.033668\n",
       "2018-12-28  0.018868 -0.002157  0.008355 -0.007896 -0.011275\n",
       "2018-12-31  0.035915  0.009730  0.003925  0.011787  0.005068\n",
       "\n",
       "[2516 rows x 5 columns]"
      ]
     },
     "execution_count": 29,
     "metadata": {},
     "output_type": "execute_result"
    }
   ],
   "source": [
    "simple_returns"
   ]
  },
  {
   "cell_type": "markdown",
   "metadata": {},
   "source": [
    "# Covariance"
   ]
  },
  {
   "cell_type": "markdown",
   "metadata": {},
   "source": [
    "Matrix table of covariance of daily returns."
   ]
  },
  {
   "cell_type": "code",
   "execution_count": 30,
   "metadata": {},
   "outputs": [
    {
     "data": {
      "text/html": [
       "<div>\n",
       "<style scoped>\n",
       "    .dataframe tbody tr th:only-of-type {\n",
       "        vertical-align: middle;\n",
       "    }\n",
       "\n",
       "    .dataframe tbody tr th {\n",
       "        vertical-align: top;\n",
       "    }\n",
       "\n",
       "    .dataframe thead th {\n",
       "        text-align: right;\n",
       "    }\n",
       "</style>\n",
       "<table border=\"1\" class=\"dataframe\">\n",
       "  <thead>\n",
       "    <tr style=\"text-align: right;\">\n",
       "      <th></th>\n",
       "      <th>AMD</th>\n",
       "      <th>INFY</th>\n",
       "      <th>INTC</th>\n",
       "      <th>MSFT</th>\n",
       "      <th>MU</th>\n",
       "    </tr>\n",
       "  </thead>\n",
       "  <tbody>\n",
       "    <tr>\n",
       "      <td>AMD</td>\n",
       "      <td>0.001418</td>\n",
       "      <td>0.000205</td>\n",
       "      <td>0.000248</td>\n",
       "      <td>0.000186</td>\n",
       "      <td>0.000532</td>\n",
       "    </tr>\n",
       "    <tr>\n",
       "      <td>INFY</td>\n",
       "      <td>0.000205</td>\n",
       "      <td>0.000357</td>\n",
       "      <td>0.000125</td>\n",
       "      <td>0.000112</td>\n",
       "      <td>0.000211</td>\n",
       "    </tr>\n",
       "    <tr>\n",
       "      <td>INTC</td>\n",
       "      <td>0.000248</td>\n",
       "      <td>0.000125</td>\n",
       "      <td>0.000264</td>\n",
       "      <td>0.000148</td>\n",
       "      <td>0.000275</td>\n",
       "    </tr>\n",
       "    <tr>\n",
       "      <td>MSFT</td>\n",
       "      <td>0.000186</td>\n",
       "      <td>0.000112</td>\n",
       "      <td>0.000148</td>\n",
       "      <td>0.000244</td>\n",
       "      <td>0.000210</td>\n",
       "    </tr>\n",
       "    <tr>\n",
       "      <td>MU</td>\n",
       "      <td>0.000532</td>\n",
       "      <td>0.000211</td>\n",
       "      <td>0.000275</td>\n",
       "      <td>0.000210</td>\n",
       "      <td>0.001029</td>\n",
       "    </tr>\n",
       "  </tbody>\n",
       "</table>\n",
       "</div>"
      ],
      "text/plain": [
       "           AMD      INFY      INTC      MSFT        MU\n",
       "AMD   0.001418  0.000205  0.000248  0.000186  0.000532\n",
       "INFY  0.000205  0.000357  0.000125  0.000112  0.000211\n",
       "INTC  0.000248  0.000125  0.000264  0.000148  0.000275\n",
       "MSFT  0.000186  0.000112  0.000148  0.000244  0.000210\n",
       "MU    0.000532  0.000211  0.000275  0.000210  0.001029"
      ]
     },
     "execution_count": 30,
     "metadata": {},
     "output_type": "execute_result"
    }
   ],
   "source": [
    "simple_returns.cov()"
   ]
  },
  {
   "cell_type": "markdown",
   "metadata": {},
   "source": [
    "Heatmap"
   ]
  },
  {
   "cell_type": "code",
   "execution_count": 31,
   "metadata": {},
   "outputs": [
    {
     "data": {
      "image/png": "[encoded data removed]",
      "text/plain": [
       "<Figure size 720x504 with 1 Axes>"
      ]
     },
     "metadata": {
      "needs_background": "light"
     },
     "output_type": "display_data"
    }
   ],
   "source": [
    "plt.pcolor(simple_returns.cov())\n",
    "plt.yticks(np.arange(0.5, len(simple_returns.cov().index), 1), simple_returns.cov().index)\n",
    "plt.xticks(np.arange(0.5, len(simple_returns.cov().columns), 1), simple_returns.cov().columns)\n",
    "plt.show()"
   ]
  },
  {
   "cell_type": "markdown",
   "metadata": {},
   "source": [
    "# Correlation Coefficient"
   ]
  },
  {
   "cell_type": "markdown",
   "metadata": {},
   "source": [
    "Matrix table of correlation coefficience of daily returns."
   ]
  },
  {
   "cell_type": "code",
   "execution_count": 32,
   "metadata": {},
   "outputs": [
    {
     "data": {
      "text/html": [
       "<div>\n",
       "<style scoped>\n",
       "    .dataframe tbody tr th:only-of-type {\n",
       "        vertical-align: middle;\n",
       "    }\n",
       "\n",
       "    .dataframe tbody tr th {\n",
       "        vertical-align: top;\n",
       "    }\n",
       "\n",
       "    .dataframe thead th {\n",
       "        text-align: right;\n",
       "    }\n",
       "</style>\n",
       "<table border=\"1\" class=\"dataframe\">\n",
       "  <thead>\n",
       "    <tr style=\"text-align: right;\">\n",
       "      <th></th>\n",
       "      <th>AMD</th>\n",
       "      <th>INFY</th>\n",
       "      <th>INTC</th>\n",
       "      <th>MSFT</th>\n",
       "      <th>MU</th>\n",
       "    </tr>\n",
       "  </thead>\n",
       "  <tbody>\n",
       "    <tr>\n",
       "      <td>AMD</td>\n",
       "      <td>1.000000</td>\n",
       "      <td>0.288176</td>\n",
       "      <td>0.405214</td>\n",
       "      <td>0.316022</td>\n",
       "      <td>0.440009</td>\n",
       "    </tr>\n",
       "    <tr>\n",
       "      <td>INFY</td>\n",
       "      <td>0.288176</td>\n",
       "      <td>1.000000</td>\n",
       "      <td>0.405909</td>\n",
       "      <td>0.379104</td>\n",
       "      <td>0.348256</td>\n",
       "    </tr>\n",
       "    <tr>\n",
       "      <td>INTC</td>\n",
       "      <td>0.405214</td>\n",
       "      <td>0.405909</td>\n",
       "      <td>1.000000</td>\n",
       "      <td>0.581764</td>\n",
       "      <td>0.527428</td>\n",
       "    </tr>\n",
       "    <tr>\n",
       "      <td>MSFT</td>\n",
       "      <td>0.316022</td>\n",
       "      <td>0.379104</td>\n",
       "      <td>0.581764</td>\n",
       "      <td>1.000000</td>\n",
       "      <td>0.418657</td>\n",
       "    </tr>\n",
       "    <tr>\n",
       "      <td>MU</td>\n",
       "      <td>0.440009</td>\n",
       "      <td>0.348256</td>\n",
       "      <td>0.527428</td>\n",
       "      <td>0.418657</td>\n",
       "      <td>1.000000</td>\n",
       "    </tr>\n",
       "  </tbody>\n",
       "</table>\n",
       "</div>"
      ],
      "text/plain": [
       "           AMD      INFY      INTC      MSFT        MU\n",
       "AMD   1.000000  0.288176  0.405214  0.316022  0.440009\n",
       "INFY  0.288176  1.000000  0.405909  0.379104  0.348256\n",
       "INTC  0.405214  0.405909  1.000000  0.581764  0.527428\n",
       "MSFT  0.316022  0.379104  0.581764  1.000000  0.418657\n",
       "MU    0.440009  0.348256  0.527428  0.418657  1.000000"
      ]
     },
     "execution_count": 32,
     "metadata": {},
     "output_type": "execute_result"
    }
   ],
   "source": [
    "simple_returns.corr()"
   ]
  },
  {
   "cell_type": "markdown",
   "metadata": {},
   "source": [
    "Heatmap"
   ]
  },
  {
   "cell_type": "code",
   "execution_count": 33,
   "metadata": {},
   "outputs": [
    {
     "data": {
      "image/png": "[encoded data removed]",
      "text/plain": [
       "<Figure size 720x504 with 1 Axes>"
      ]
     },
     "metadata": {
      "needs_background": "light"
     },
     "output_type": "display_data"
    }
   ],
   "source": [
    "plt.pcolor(simple_returns.corr())\n",
    "plt.yticks(np.arange(0.5, len(simple_returns.corr().index), 1), simple_returns.corr().index)\n",
    "plt.xticks(np.arange(0.5, len(simple_returns.corr().columns), 1), simple_returns.corr().columns)\n",
    "plt.show()"
   ]
  },
  {
   "cell_type": "markdown",
   "metadata": {},
   "source": [
    "# Histogram of Daily Returns"
   ]
  },
  {
   "cell_type": "code",
   "execution_count": 34,
   "metadata": {},
   "outputs": [
    {
     "data": {
      "text/plain": [
       "array([[<matplotlib.axes._subplots.AxesSubplot object at 0x15DFCDF0>,\n",
       "        <matplotlib.axes._subplots.AxesSubplot object at 0x15FB3D70>],\n",
       "       [<matplotlib.axes._subplots.AxesSubplot object at 0x16315D30>,\n",
       "        <matplotlib.axes._subplots.AxesSubplot object at 0x16335E30>],\n",
       "       [<matplotlib.axes._subplots.AxesSubplot object at 0x16356F30>,\n",
       "        <matplotlib.axes._subplots.AxesSubplot object at 0x16377A90>]],\n",
       "      dtype=object)"
      ]
     },
     "execution_count": 34,
     "metadata": {},
     "output_type": "execute_result"
    },
    {
     "data": {
      "image/png": "[encoded data removed]",
      "text/plain": [
       "<Figure size 720x504 with 6 Axes>"
      ]
     },
     "metadata": {
      "needs_background": "light"
     },
     "output_type": "display_data"
    }
   ],
   "source": [
    "simple_returns.hist()"
   ]
  },
  {
   "cell_type": "markdown",
   "metadata": {},
   "source": [
    "# Mean, Variance, Skewness and Kurtosis"
   ]
  },
  {
   "cell_type": "code",
   "execution_count": 35,
   "metadata": {},
   "outputs": [
    {
     "data": {
      "text/html": [
       "<div>\n",
       "<style scoped>\n",
       "    .dataframe tbody tr th:only-of-type {\n",
       "        vertical-align: middle;\n",
       "    }\n",
       "\n",
       "    .dataframe tbody tr th {\n",
       "        vertical-align: top;\n",
       "    }\n",
       "\n",
       "    .dataframe thead th {\n",
       "        text-align: right;\n",
       "    }\n",
       "</style>\n",
       "<table border=\"1\" class=\"dataframe\">\n",
       "  <thead>\n",
       "    <tr style=\"text-align: right;\">\n",
       "      <th></th>\n",
       "      <th>Mean</th>\n",
       "      <th>Variance</th>\n",
       "      <th>Skewness</th>\n",
       "      <th>Kurtosis</th>\n",
       "    </tr>\n",
       "    <tr>\n",
       "      <th>Stock</th>\n",
       "      <th></th>\n",
       "      <th></th>\n",
       "      <th></th>\n",
       "      <th></th>\n",
       "    </tr>\n",
       "  </thead>\n",
       "  <tbody>\n",
       "    <tr>\n",
       "      <td>AMD</td>\n",
       "      <td>0.001549</td>\n",
       "      <td>0.001418</td>\n",
       "      <td>1.111151</td>\n",
       "      <td>17.754559</td>\n",
       "    </tr>\n",
       "    <tr>\n",
       "      <td>INFY</td>\n",
       "      <td>0.000752</td>\n",
       "      <td>0.000357</td>\n",
       "      <td>-0.635824</td>\n",
       "      <td>14.565992</td>\n",
       "    </tr>\n",
       "    <tr>\n",
       "      <td>INTC</td>\n",
       "      <td>0.000721</td>\n",
       "      <td>0.000264</td>\n",
       "      <td>0.216840</td>\n",
       "      <td>4.036787</td>\n",
       "    </tr>\n",
       "    <tr>\n",
       "      <td>MSFT</td>\n",
       "      <td>0.000878</td>\n",
       "      <td>0.000244</td>\n",
       "      <td>0.051479</td>\n",
       "      <td>7.311674</td>\n",
       "    </tr>\n",
       "    <tr>\n",
       "      <td>MU</td>\n",
       "      <td>0.001501</td>\n",
       "      <td>0.001029</td>\n",
       "      <td>0.292863</td>\n",
       "      <td>3.627926</td>\n",
       "    </tr>\n",
       "  </tbody>\n",
       "</table>\n",
       "</div>"
      ],
      "text/plain": [
       "           Mean  Variance  Skewness   Kurtosis\n",
       "Stock                                         \n",
       "AMD    0.001549  0.001418  1.111151  17.754559\n",
       "INFY   0.000752  0.000357 -0.635824  14.565992\n",
       "INTC   0.000721  0.000264  0.216840   4.036787\n",
       "MSFT   0.000878  0.000244  0.051479   7.311674\n",
       "MU     0.001501  0.001029  0.292863   3.627926"
      ]
     },
     "execution_count": 35,
     "metadata": {},
     "output_type": "execute_result"
    }
   ],
   "source": [
    "cal = pd.DataFrame()\n",
    "cal['Stock'] = ['AMD', 'INFY' ,'INTC' ,'MSFT' ,'MU']\n",
    "cal['Mean'] = simple_returns.mean().values.tolist()\n",
    "cal['Variance'] = simple_returns.var().values.tolist()\n",
    "cal['Skewness'] = simple_returns.skew().values.tolist()\n",
    "cal['Kurtosis'] = simple_returns.kurtosis().values.tolist()\n",
    "cal.set_index('Stock')"
   ]
  },
  {
   "cell_type": "markdown",
   "metadata": {},
   "source": [
    "# Find Upper bound and Lowerbound of Price"
   ]
  },
  {
   "cell_type": "markdown",
   "metadata": {},
   "source": [
    "Calculate ZT for each stock by\n",
    "    \n",
    "    𝑍𝑇 = (ln(𝑃𝑇/𝑃0) −𝜇𝑟𝑇) /𝜎𝑟 𝑇^(0.5)"
   ]
  },
  {
   "cell_type": "code",
   "execution_count": 36,
   "metadata": {},
   "outputs": [],
   "source": [
    "p = data[\"Adj Close\"]\n",
    "r = log_returns\n",
    "stock_name = ['AMD', 'INFY' ,'INTC' ,'MSFT' ,'MU']\n",
    "days = [5,21,63,250]\n",
    "z_each_days = []\n",
    "z = []\n",
    "for T in range(len(days)):\n",
    "    for stock in stock_name:\n",
    "        z_each_days.append((np.sum(r[stock][0:days[T]-1]) - (r[stock][0:days[T]-1].mean() * days[T])) / (np.power(r[stock][1:days[T]-1].var(),0.5) * np.power(days[T],0.5)))\n",
    "    z.append(z_each_days)\n",
    "    z_each_days = [] # reset z_each_days"
   ]
  },
  {
   "cell_type": "markdown",
   "metadata": {},
   "source": [
    "This table shows ZT for each stock using T = 5, 21, 63, 250"
   ]
  },
  {
   "cell_type": "code",
   "execution_count": 37,
   "metadata": {},
   "outputs": [
    {
     "data": {
      "text/html": [
       "<div>\n",
       "<style scoped>\n",
       "    .dataframe tbody tr th:only-of-type {\n",
       "        vertical-align: middle;\n",
       "    }\n",
       "\n",
       "    .dataframe tbody tr th {\n",
       "        vertical-align: top;\n",
       "    }\n",
       "\n",
       "    .dataframe thead th {\n",
       "        text-align: right;\n",
       "    }\n",
       "</style>\n",
       "<table border=\"1\" class=\"dataframe\">\n",
       "  <thead>\n",
       "    <tr style=\"text-align: right;\">\n",
       "      <th></th>\n",
       "      <th>AMD</th>\n",
       "      <th>INFY</th>\n",
       "      <th>INTC</th>\n",
       "      <th>MSFT</th>\n",
       "      <th>MU</th>\n",
       "    </tr>\n",
       "    <tr>\n",
       "      <th>#days</th>\n",
       "      <th></th>\n",
       "      <th></th>\n",
       "      <th></th>\n",
       "      <th></th>\n",
       "      <th></th>\n",
       "    </tr>\n",
       "  </thead>\n",
       "  <tbody>\n",
       "    <tr>\n",
       "      <td>5</td>\n",
       "      <td>-0.292446</td>\n",
       "      <td>-1.146498</td>\n",
       "      <td>0.034843</td>\n",
       "      <td>-0.010700</td>\n",
       "      <td>-0.228329</td>\n",
       "    </tr>\n",
       "    <tr>\n",
       "      <td>21</td>\n",
       "      <td>-0.002014</td>\n",
       "      <td>-0.028153</td>\n",
       "      <td>0.041053</td>\n",
       "      <td>0.033433</td>\n",
       "      <td>-0.050577</td>\n",
       "    </tr>\n",
       "    <tr>\n",
       "      <td>63</td>\n",
       "      <td>-0.010718</td>\n",
       "      <td>-0.005530</td>\n",
       "      <td>-0.002041</td>\n",
       "      <td>0.000000</td>\n",
       "      <td>-0.014030</td>\n",
       "    </tr>\n",
       "    <tr>\n",
       "      <td>250</td>\n",
       "      <td>-0.008168</td>\n",
       "      <td>-0.008331</td>\n",
       "      <td>-0.003928</td>\n",
       "      <td>-0.005374</td>\n",
       "      <td>-0.007392</td>\n",
       "    </tr>\n",
       "  </tbody>\n",
       "</table>\n",
       "</div>"
      ],
      "text/plain": [
       "            AMD      INFY      INTC      MSFT        MU\n",
       "#days                                                  \n",
       "5     -0.292446 -1.146498  0.034843 -0.010700 -0.228329\n",
       "21    -0.002014 -0.028153  0.041053  0.033433 -0.050577\n",
       "63    -0.010718 -0.005530 -0.002041  0.000000 -0.014030\n",
       "250   -0.008168 -0.008331 -0.003928 -0.005374 -0.007392"
      ]
     },
     "execution_count": 37,
     "metadata": {},
     "output_type": "execute_result"
    }
   ],
   "source": [
    "Z = pd.DataFrame(z,columns=stock_name)\n",
    "Z['#days'] = days\n",
    "Z.set_index(['#days'])"
   ]
  },
  {
   "cell_type": "markdown",
   "metadata": {},
   "source": [
    "To calculate lower bound and upper bound of log-normal distribution. \n",
    "    \n",
    "    𝑃0exp(𝜇𝑟𝑇 − 𝑧𝜎𝑟𝑇^(0.5)) < 𝑃𝑇 < 𝑃0exp(𝜇𝑟𝑇 + 𝑧𝜎𝑟 𝑇^(0.5))\n",
    "            (Lower bound)                           (Upper Bound)\n",
    "        \n",
    ", z = 1.96 ; -z < Zt <z"
   ]
  },
  {
   "cell_type": "code",
   "execution_count": 38,
   "metadata": {},
   "outputs": [],
   "source": [
    "num_days = []\n",
    "bound_stock = []\n",
    "bound_up_each_days = []\n",
    "bound_low_each_days = []\n",
    "for stock in stock_name:\n",
    "    for T in range(len(days)):\n",
    "        bound_low_each_days.append(p[stock][1]*np.exp(((r[stock][0:days[T]-1]).mean()*days[T]) - (1.96*np.power(r[stock][0:days[T]-1].var(),0.5)*np.power(days[T],0.5)) ))\n",
    "        bound_up_each_days.append(p[stock][1]*np.exp(((r[stock][0:days[T]-1]).mean()*days[T]) + (1.96*np.power(r[stock][0:days[T]-1].var(),0.5)*np.power(days[T],0.5)) ))\n",
    "        bound_stock.append(stock)\n",
    "        num_days.append(days[T])"
   ]
  },
  {
   "cell_type": "code",
   "execution_count": 39,
   "metadata": {},
   "outputs": [
    {
     "data": {
      "text/html": [
       "<div>\n",
       "<style scoped>\n",
       "    .dataframe tbody tr th:only-of-type {\n",
       "        vertical-align: middle;\n",
       "    }\n",
       "\n",
       "    .dataframe tbody tr th {\n",
       "        vertical-align: top;\n",
       "    }\n",
       "\n",
       "    .dataframe thead th {\n",
       "        text-align: right;\n",
       "    }\n",
       "</style>\n",
       "<table border=\"1\" class=\"dataframe\">\n",
       "  <thead>\n",
       "    <tr style=\"text-align: right;\">\n",
       "      <th></th>\n",
       "      <th>stock</th>\n",
       "      <th>Lower bound</th>\n",
       "      <th>Upper bound</th>\n",
       "    </tr>\n",
       "    <tr>\n",
       "      <th>#days</th>\n",
       "      <th></th>\n",
       "      <th></th>\n",
       "      <th></th>\n",
       "    </tr>\n",
       "  </thead>\n",
       "  <tbody>\n",
       "    <tr>\n",
       "      <td>5</td>\n",
       "      <td>AMD</td>\n",
       "      <td>2.256274</td>\n",
       "      <td>4.225050</td>\n",
       "    </tr>\n",
       "    <tr>\n",
       "      <td>21</td>\n",
       "      <td>AMD</td>\n",
       "      <td>1.218056</td>\n",
       "      <td>4.787034</td>\n",
       "    </tr>\n",
       "    <tr>\n",
       "      <td>63</td>\n",
       "      <td>AMD</td>\n",
       "      <td>1.233868</td>\n",
       "      <td>9.071662</td>\n",
       "    </tr>\n",
       "    <tr>\n",
       "      <td>250</td>\n",
       "      <td>AMD</td>\n",
       "      <td>2.509650</td>\n",
       "      <td>47.317981</td>\n",
       "    </tr>\n",
       "    <tr>\n",
       "      <td>5</td>\n",
       "      <td>INFY</td>\n",
       "      <td>2.479696</td>\n",
       "      <td>2.654994</td>\n",
       "    </tr>\n",
       "    <tr>\n",
       "      <td>21</td>\n",
       "      <td>INFY</td>\n",
       "      <td>1.874073</td>\n",
       "      <td>3.295928</td>\n",
       "    </tr>\n",
       "    <tr>\n",
       "      <td>63</td>\n",
       "      <td>INFY</td>\n",
       "      <td>1.465332</td>\n",
       "      <td>4.298640</td>\n",
       "    </tr>\n",
       "    <tr>\n",
       "      <td>250</td>\n",
       "      <td>INFY</td>\n",
       "      <td>2.396151</td>\n",
       "      <td>11.617279</td>\n",
       "    </tr>\n",
       "    <tr>\n",
       "      <td>5</td>\n",
       "      <td>INTC</td>\n",
       "      <td>8.695846</td>\n",
       "      <td>13.057651</td>\n",
       "    </tr>\n",
       "    <tr>\n",
       "      <td>21</td>\n",
       "      <td>INTC</td>\n",
       "      <td>6.967030</td>\n",
       "      <td>12.934228</td>\n",
       "    </tr>\n",
       "    <tr>\n",
       "      <td>63</td>\n",
       "      <td>INTC</td>\n",
       "      <td>6.472709</td>\n",
       "      <td>19.555482</td>\n",
       "    </tr>\n",
       "    <tr>\n",
       "      <td>250</td>\n",
       "      <td>INTC</td>\n",
       "      <td>7.562152</td>\n",
       "      <td>32.020431</td>\n",
       "    </tr>\n",
       "    <tr>\n",
       "      <td>5</td>\n",
       "      <td>MSFT</td>\n",
       "      <td>12.949522</td>\n",
       "      <td>19.201114</td>\n",
       "    </tr>\n",
       "    <tr>\n",
       "      <td>21</td>\n",
       "      <td>MSFT</td>\n",
       "      <td>9.377023</td>\n",
       "      <td>20.072180</td>\n",
       "    </tr>\n",
       "    <tr>\n",
       "      <td>63</td>\n",
       "      <td>MSFT</td>\n",
       "      <td>8.992268</td>\n",
       "      <td>27.376421</td>\n",
       "    </tr>\n",
       "    <tr>\n",
       "      <td>250</td>\n",
       "      <td>MSFT</td>\n",
       "      <td>12.444355</td>\n",
       "      <td>53.505147</td>\n",
       "    </tr>\n",
       "    <tr>\n",
       "      <td>5</td>\n",
       "      <td>MU</td>\n",
       "      <td>2.536692</td>\n",
       "      <td>5.470712</td>\n",
       "    </tr>\n",
       "    <tr>\n",
       "      <td>21</td>\n",
       "      <td>MU</td>\n",
       "      <td>2.109434</td>\n",
       "      <td>7.856745</td>\n",
       "    </tr>\n",
       "    <tr>\n",
       "      <td>63</td>\n",
       "      <td>MU</td>\n",
       "      <td>1.608714</td>\n",
       "      <td>12.756762</td>\n",
       "    </tr>\n",
       "    <tr>\n",
       "      <td>250</td>\n",
       "      <td>MU</td>\n",
       "      <td>2.609639</td>\n",
       "      <td>45.183038</td>\n",
       "    </tr>\n",
       "  </tbody>\n",
       "</table>\n",
       "</div>"
      ],
      "text/plain": [
       "      stock  Lower bound  Upper bound\n",
       "#days                                \n",
       "5       AMD     2.256274     4.225050\n",
       "21      AMD     1.218056     4.787034\n",
       "63      AMD     1.233868     9.071662\n",
       "250     AMD     2.509650    47.317981\n",
       "5      INFY     2.479696     2.654994\n",
       "21     INFY     1.874073     3.295928\n",
       "63     INFY     1.465332     4.298640\n",
       "250    INFY     2.396151    11.617279\n",
       "5      INTC     8.695846    13.057651\n",
       "21     INTC     6.967030    12.934228\n",
       "63     INTC     6.472709    19.555482\n",
       "250    INTC     7.562152    32.020431\n",
       "5      MSFT    12.949522    19.201114\n",
       "21     MSFT     9.377023    20.072180\n",
       "63     MSFT     8.992268    27.376421\n",
       "250    MSFT    12.444355    53.505147\n",
       "5        MU     2.536692     5.470712\n",
       "21       MU     2.109434     7.856745\n",
       "63       MU     1.608714    12.756762\n",
       "250      MU     2.609639    45.183038"
      ]
     },
     "execution_count": 39,
     "metadata": {},
     "output_type": "execute_result"
    }
   ],
   "source": [
    "bound = pd.DataFrame()\n",
    "bound['#days'] = num_days\n",
    "bound['stock'] = bound_stock\n",
    "bound['Lower bound'] = bound_low_each_days\n",
    "bound['Upper bound'] = bound_up_each_days\n",
    "bound.set_index('#days')"
   ]
  },
  {
   "cell_type": "markdown",
   "metadata": {},
   "source": [
    "# Volatility in daily historical data"
   ]
  },
  {
   "cell_type": "markdown",
   "metadata": {},
   "source": [
    "Calculate historical volatility by\n",
    "\n",
    "    𝜎0 = ((1/m)*(r1^(2)+r2^(2)+...+rt^(2))^(0.5)"
   ]
  },
  {
   "cell_type": "code",
   "execution_count": 40,
   "metadata": {},
   "outputs": [],
   "source": [
    "#Set up parameters\n",
    "hist_vol = []\n",
    "r = log_returns\n",
    "annualize_vol = [] #To collect aunualized historical volatility\n",
    "#days_per_year is a array that stores the number of days in each year\n",
    "#days_per_year = [ [2009,252] , [..] ,..] \n",
    "current_year = 2009\n",
    "hist_vol_each_year = []"
   ]
  },
  {
   "cell_type": "code",
   "execution_count": 41,
   "metadata": {},
   "outputs": [],
   "source": [
    "for t in range(len(days_per_year)):\n",
    "    hist_vol_each_year.append( days_per_year[t][0] )\n",
    "    for stock in stock_name:\n",
    "        sum_r = np.sum(r[stock][0:days_per_year[t][1]-1])\n",
    "        hist_vol_each_year.append( np.power( (1/days_per_year[t][1])*np.power(sum_r,2) ,0.5))\n",
    "    hist_vol.append( hist_vol_each_year )\n",
    "    hist_vol_each_year = [] #reset hist_vol_each_year"
   ]
  },
  {
   "cell_type": "markdown",
   "metadata": {},
   "source": [
    "This table shows historical volatility (𝜎0) for each year."
   ]
  },
  {
   "cell_type": "code",
   "execution_count": 42,
   "metadata": {},
   "outputs": [
    {
     "data": {
      "text/html": [
       "<div>\n",
       "<style scoped>\n",
       "    .dataframe tbody tr th:only-of-type {\n",
       "        vertical-align: middle;\n",
       "    }\n",
       "\n",
       "    .dataframe tbody tr th {\n",
       "        vertical-align: top;\n",
       "    }\n",
       "\n",
       "    .dataframe thead th {\n",
       "        text-align: right;\n",
       "    }\n",
       "</style>\n",
       "<table border=\"1\" class=\"dataframe\">\n",
       "  <thead>\n",
       "    <tr style=\"text-align: right;\">\n",
       "      <th></th>\n",
       "      <th>AMD</th>\n",
       "      <th>INFY</th>\n",
       "      <th>INTC</th>\n",
       "      <th>MSFT</th>\n",
       "      <th>MU</th>\n",
       "    </tr>\n",
       "    <tr>\n",
       "      <th>Year</th>\n",
       "      <th></th>\n",
       "      <th></th>\n",
       "      <th></th>\n",
       "      <th></th>\n",
       "      <th></th>\n",
       "    </tr>\n",
       "  </thead>\n",
       "  <tbody>\n",
       "    <tr>\n",
       "      <td>2009</td>\n",
       "      <td>0.094748</td>\n",
       "      <td>0.052518</td>\n",
       "      <td>0.023543</td>\n",
       "      <td>0.030778</td>\n",
       "      <td>0.087804</td>\n",
       "    </tr>\n",
       "    <tr>\n",
       "      <td>2010</td>\n",
       "      <td>0.095131</td>\n",
       "      <td>0.052375</td>\n",
       "      <td>0.023006</td>\n",
       "      <td>0.031711</td>\n",
       "      <td>0.086417</td>\n",
       "    </tr>\n",
       "    <tr>\n",
       "      <td>2011</td>\n",
       "      <td>0.095131</td>\n",
       "      <td>0.052375</td>\n",
       "      <td>0.023006</td>\n",
       "      <td>0.031711</td>\n",
       "      <td>0.086417</td>\n",
       "    </tr>\n",
       "    <tr>\n",
       "      <td>2012</td>\n",
       "      <td>0.096544</td>\n",
       "      <td>0.053081</td>\n",
       "      <td>0.022845</td>\n",
       "      <td>0.031040</td>\n",
       "      <td>0.085406</td>\n",
       "    </tr>\n",
       "    <tr>\n",
       "      <td>2013</td>\n",
       "      <td>0.095131</td>\n",
       "      <td>0.052375</td>\n",
       "      <td>0.023006</td>\n",
       "      <td>0.031711</td>\n",
       "      <td>0.086417</td>\n",
       "    </tr>\n",
       "    <tr>\n",
       "      <td>2014</td>\n",
       "      <td>0.095131</td>\n",
       "      <td>0.052375</td>\n",
       "      <td>0.023006</td>\n",
       "      <td>0.031711</td>\n",
       "      <td>0.086417</td>\n",
       "    </tr>\n",
       "    <tr>\n",
       "      <td>2015</td>\n",
       "      <td>0.095131</td>\n",
       "      <td>0.052375</td>\n",
       "      <td>0.023006</td>\n",
       "      <td>0.031711</td>\n",
       "      <td>0.086417</td>\n",
       "    </tr>\n",
       "    <tr>\n",
       "      <td>2016</td>\n",
       "      <td>0.095131</td>\n",
       "      <td>0.052375</td>\n",
       "      <td>0.023006</td>\n",
       "      <td>0.031711</td>\n",
       "      <td>0.086417</td>\n",
       "    </tr>\n",
       "    <tr>\n",
       "      <td>2017</td>\n",
       "      <td>0.095838</td>\n",
       "      <td>0.052851</td>\n",
       "      <td>0.022715</td>\n",
       "      <td>0.031339</td>\n",
       "      <td>0.084483</td>\n",
       "    </tr>\n",
       "    <tr>\n",
       "      <td>2018</td>\n",
       "      <td>0.095838</td>\n",
       "      <td>0.052851</td>\n",
       "      <td>0.022715</td>\n",
       "      <td>0.031339</td>\n",
       "      <td>0.084483</td>\n",
       "    </tr>\n",
       "  </tbody>\n",
       "</table>\n",
       "</div>"
      ],
      "text/plain": [
       "           AMD      INFY      INTC      MSFT        MU\n",
       "Year                                                  \n",
       "2009  0.094748  0.052518  0.023543  0.030778  0.087804\n",
       "2010  0.095131  0.052375  0.023006  0.031711  0.086417\n",
       "2011  0.095131  0.052375  0.023006  0.031711  0.086417\n",
       "2012  0.096544  0.053081  0.022845  0.031040  0.085406\n",
       "2013  0.095131  0.052375  0.023006  0.031711  0.086417\n",
       "2014  0.095131  0.052375  0.023006  0.031711  0.086417\n",
       "2015  0.095131  0.052375  0.023006  0.031711  0.086417\n",
       "2016  0.095131  0.052375  0.023006  0.031711  0.086417\n",
       "2017  0.095838  0.052851  0.022715  0.031339  0.084483\n",
       "2018  0.095838  0.052851  0.022715  0.031339  0.084483"
      ]
     },
     "execution_count": 42,
     "metadata": {},
     "output_type": "execute_result"
    }
   ],
   "source": [
    "Hist_vol = pd.DataFrame(hist_vol ,columns=['Year','AMD', 'INFY' ,'INTC' ,'MSFT' ,'MU'])\n",
    "Hist_vol.set_index('Year')"
   ]
  },
  {
   "cell_type": "markdown",
   "metadata": {},
   "source": [
    "# The annualized historical volatility"
   ]
  },
  {
   "cell_type": "markdown",
   "metadata": {},
   "source": [
    "The annualized historical volatility with respect to h period per year is given by :\n",
    "\n",
    "    𝜎ann = (h^(0.5))*𝜎0"
   ]
  },
  {
   "cell_type": "code",
   "execution_count": 43,
   "metadata": {},
   "outputs": [],
   "source": [
    "hist_vol_ann = []\n",
    "annualize_each_year = []\n",
    "#days_per_year is a array that stores the number of days in each year\n",
    "#days_per_year = [ [2009,252] , [..] ,..] \n",
    "#Hist_vol is the historical volatility for each year."
   ]
  },
  {
   "cell_type": "code",
   "execution_count": 44,
   "metadata": {},
   "outputs": [],
   "source": [
    "for t in range(len(days_per_year)):\n",
    "    annualize_each_year.append(days_per_year[t][0])\n",
    "    for stock in stock_name: \n",
    "        annualize_each_year.append(np.power(days_per_year[t][1],0.5)*Hist_vol[stock][t])\n",
    "    hist_vol_ann.append(annualize_each_year)\n",
    "    annualize_each_year = []"
   ]
  },
  {
   "cell_type": "markdown",
   "metadata": {},
   "source": [
    "This table shows annualized historical volatility (𝜎ann) for each year."
   ]
  },
  {
   "cell_type": "code",
   "execution_count": 45,
   "metadata": {},
   "outputs": [
    {
     "data": {
      "text/html": [
       "<div>\n",
       "<style scoped>\n",
       "    .dataframe tbody tr th:only-of-type {\n",
       "        vertical-align: middle;\n",
       "    }\n",
       "\n",
       "    .dataframe tbody tr th {\n",
       "        vertical-align: top;\n",
       "    }\n",
       "\n",
       "    .dataframe thead th {\n",
       "        text-align: right;\n",
       "    }\n",
       "</style>\n",
       "<table border=\"1\" class=\"dataframe\">\n",
       "  <thead>\n",
       "    <tr style=\"text-align: right;\">\n",
       "      <th></th>\n",
       "      <th>AMD</th>\n",
       "      <th>INFY</th>\n",
       "      <th>INTC</th>\n",
       "      <th>MSFT</th>\n",
       "      <th>MU</th>\n",
       "    </tr>\n",
       "    <tr>\n",
       "      <th>Year</th>\n",
       "      <th></th>\n",
       "      <th></th>\n",
       "      <th></th>\n",
       "      <th></th>\n",
       "      <th></th>\n",
       "    </tr>\n",
       "  </thead>\n",
       "  <tbody>\n",
       "    <tr>\n",
       "      <td>2009</td>\n",
       "      <td>1.504077</td>\n",
       "      <td>0.833692</td>\n",
       "      <td>0.373737</td>\n",
       "      <td>0.488580</td>\n",
       "      <td>1.393842</td>\n",
       "    </tr>\n",
       "    <tr>\n",
       "      <td>2010</td>\n",
       "      <td>1.507159</td>\n",
       "      <td>0.829771</td>\n",
       "      <td>0.364484</td>\n",
       "      <td>0.502390</td>\n",
       "      <td>1.369102</td>\n",
       "    </tr>\n",
       "    <tr>\n",
       "      <td>2011</td>\n",
       "      <td>1.507159</td>\n",
       "      <td>0.829771</td>\n",
       "      <td>0.364484</td>\n",
       "      <td>0.502390</td>\n",
       "      <td>1.369102</td>\n",
       "    </tr>\n",
       "    <tr>\n",
       "      <td>2012</td>\n",
       "      <td>1.523436</td>\n",
       "      <td>0.837598</td>\n",
       "      <td>0.360492</td>\n",
       "      <td>0.489806</td>\n",
       "      <td>1.347680</td>\n",
       "    </tr>\n",
       "    <tr>\n",
       "      <td>2013</td>\n",
       "      <td>1.507159</td>\n",
       "      <td>0.829771</td>\n",
       "      <td>0.364484</td>\n",
       "      <td>0.502390</td>\n",
       "      <td>1.369102</td>\n",
       "    </tr>\n",
       "    <tr>\n",
       "      <td>2014</td>\n",
       "      <td>1.507159</td>\n",
       "      <td>0.829771</td>\n",
       "      <td>0.364484</td>\n",
       "      <td>0.502390</td>\n",
       "      <td>1.369102</td>\n",
       "    </tr>\n",
       "    <tr>\n",
       "      <td>2015</td>\n",
       "      <td>1.507159</td>\n",
       "      <td>0.829771</td>\n",
       "      <td>0.364484</td>\n",
       "      <td>0.502390</td>\n",
       "      <td>1.369102</td>\n",
       "    </tr>\n",
       "    <tr>\n",
       "      <td>2016</td>\n",
       "      <td>1.507159</td>\n",
       "      <td>0.829771</td>\n",
       "      <td>0.364484</td>\n",
       "      <td>0.502390</td>\n",
       "      <td>1.369102</td>\n",
       "    </tr>\n",
       "    <tr>\n",
       "      <td>2017</td>\n",
       "      <td>1.515331</td>\n",
       "      <td>0.835647</td>\n",
       "      <td>0.359158</td>\n",
       "      <td>0.495509</td>\n",
       "      <td>1.335798</td>\n",
       "    </tr>\n",
       "    <tr>\n",
       "      <td>2018</td>\n",
       "      <td>1.515331</td>\n",
       "      <td>0.835647</td>\n",
       "      <td>0.359158</td>\n",
       "      <td>0.495509</td>\n",
       "      <td>1.335798</td>\n",
       "    </tr>\n",
       "  </tbody>\n",
       "</table>\n",
       "</div>"
      ],
      "text/plain": [
       "           AMD      INFY      INTC      MSFT        MU\n",
       "Year                                                  \n",
       "2009  1.504077  0.833692  0.373737  0.488580  1.393842\n",
       "2010  1.507159  0.829771  0.364484  0.502390  1.369102\n",
       "2011  1.507159  0.829771  0.364484  0.502390  1.369102\n",
       "2012  1.523436  0.837598  0.360492  0.489806  1.347680\n",
       "2013  1.507159  0.829771  0.364484  0.502390  1.369102\n",
       "2014  1.507159  0.829771  0.364484  0.502390  1.369102\n",
       "2015  1.507159  0.829771  0.364484  0.502390  1.369102\n",
       "2016  1.507159  0.829771  0.364484  0.502390  1.369102\n",
       "2017  1.515331  0.835647  0.359158  0.495509  1.335798\n",
       "2018  1.515331  0.835647  0.359158  0.495509  1.335798"
      ]
     },
     "execution_count": 45,
     "metadata": {},
     "output_type": "execute_result"
    }
   ],
   "source": [
    "Hist_vol_ann = pd.DataFrame(hist_vol_ann ,columns=['Year','AMD', 'INFY' ,'INTC' ,'MSFT' ,'MU'])\n",
    "Hist_vol_ann.set_index('Year')"
   ]
  },
  {
   "cell_type": "markdown",
   "metadata": {},
   "source": [
    "# Range-based volatility by Parkinson"
   ]
  },
  {
   "cell_type": "markdown",
   "metadata": {},
   "source": [
    "To calculate range-based volatility by parkingson is given by :\n",
    "\n",
    "    𝜎𝑝 = (1 / 4ln2 ∙ 1/𝑚 ∙ (ln (𝐻1/𝐿1)^2 + ln (𝐻2/𝐿2)^2 + ... + ln (𝐻𝑘/𝐿𝑘)^2 ) )\n",
    "    k = The number of days per year"
   ]
  },
  {
   "cell_type": "code",
   "execution_count": 46,
   "metadata": {},
   "outputs": [],
   "source": [
    "H = data['High']\n",
    "L = data['Low']\n",
    "#days_per_year is a array that stores the number of days in each year\n",
    "#days_per_year = [ [2009,252] , [..] ,..] \n",
    "vol_park = []\n",
    "vol_park_each_year = []"
   ]
  },
  {
   "cell_type": "code",
   "execution_count": 47,
   "metadata": {},
   "outputs": [],
   "source": [
    "for t in range(len(days_per_year)):\n",
    "    vol_park_each_year.append(days_per_year[t][0])\n",
    "    for stock in stock_name: \n",
    "        sum_para = np.sum(np.log(np.power(H[stock][t]/L[stock][t],2)))\n",
    "        vol_park_each_year.append( np.power(((1/(4*np.log(2))) * (1/days_per_year[t][1]) * sum_para),0.5) )\n",
    "    vol_park.append(vol_park_each_year)\n",
    "    vol_park_each_year = []"
   ]
  },
  {
   "cell_type": "code",
   "execution_count": 48,
   "metadata": {},
   "outputs": [
    {
     "data": {
      "text/html": [
       "<div>\n",
       "<style scoped>\n",
       "    .dataframe tbody tr th:only-of-type {\n",
       "        vertical-align: middle;\n",
       "    }\n",
       "\n",
       "    .dataframe tbody tr th {\n",
       "        vertical-align: top;\n",
       "    }\n",
       "\n",
       "    .dataframe thead th {\n",
       "        text-align: right;\n",
       "    }\n",
       "</style>\n",
       "<table border=\"1\" class=\"dataframe\">\n",
       "  <thead>\n",
       "    <tr style=\"text-align: right;\">\n",
       "      <th></th>\n",
       "      <th>AMD</th>\n",
       "      <th>INFY</th>\n",
       "      <th>INTC</th>\n",
       "      <th>MSFT</th>\n",
       "      <th>MU</th>\n",
       "    </tr>\n",
       "    <tr>\n",
       "      <th>Year</th>\n",
       "      <th></th>\n",
       "      <th></th>\n",
       "      <th></th>\n",
       "      <th></th>\n",
       "      <th></th>\n",
       "    </tr>\n",
       "  </thead>\n",
       "  <tbody>\n",
       "    <tr>\n",
       "      <td>2009</td>\n",
       "      <td>0.010935</td>\n",
       "      <td>0.007492</td>\n",
       "      <td>0.008362</td>\n",
       "      <td>0.007763</td>\n",
       "      <td>0.017025</td>\n",
       "    </tr>\n",
       "    <tr>\n",
       "      <td>2010</td>\n",
       "      <td>0.018034</td>\n",
       "      <td>0.011412</td>\n",
       "      <td>0.012284</td>\n",
       "      <td>0.012202</td>\n",
       "      <td>0.016759</td>\n",
       "    </tr>\n",
       "    <tr>\n",
       "      <td>2011</td>\n",
       "      <td>0.019433</td>\n",
       "      <td>0.012387</td>\n",
       "      <td>0.009574</td>\n",
       "      <td>0.009278</td>\n",
       "      <td>0.023470</td>\n",
       "    </tr>\n",
       "    <tr>\n",
       "      <td>2012</td>\n",
       "      <td>0.017950</td>\n",
       "      <td>0.011485</td>\n",
       "      <td>0.009025</td>\n",
       "      <td>0.007369</td>\n",
       "      <td>0.015989</td>\n",
       "    </tr>\n",
       "    <tr>\n",
       "      <td>2013</td>\n",
       "      <td>0.013619</td>\n",
       "      <td>0.018563</td>\n",
       "      <td>0.011866</td>\n",
       "      <td>0.010820</td>\n",
       "      <td>0.017454</td>\n",
       "    </tr>\n",
       "    <tr>\n",
       "      <td>2014</td>\n",
       "      <td>0.015874</td>\n",
       "      <td>0.010147</td>\n",
       "      <td>0.007989</td>\n",
       "      <td>0.009622</td>\n",
       "      <td>0.014417</td>\n",
       "    </tr>\n",
       "    <tr>\n",
       "      <td>2015</td>\n",
       "      <td>0.014513</td>\n",
       "      <td>0.012817</td>\n",
       "      <td>0.010793</td>\n",
       "      <td>0.011351</td>\n",
       "      <td>0.015457</td>\n",
       "    </tr>\n",
       "    <tr>\n",
       "      <td>2016</td>\n",
       "      <td>0.016388</td>\n",
       "      <td>0.011859</td>\n",
       "      <td>0.011833</td>\n",
       "      <td>0.008488</td>\n",
       "      <td>0.017565</td>\n",
       "    </tr>\n",
       "    <tr>\n",
       "      <td>2017</td>\n",
       "      <td>0.014344</td>\n",
       "      <td>0.012653</td>\n",
       "      <td>0.012349</td>\n",
       "      <td>0.008286</td>\n",
       "      <td>0.019629</td>\n",
       "    </tr>\n",
       "    <tr>\n",
       "      <td>2018</td>\n",
       "      <td>0.015773</td>\n",
       "      <td>0.010982</td>\n",
       "      <td>0.011967</td>\n",
       "      <td>0.009997</td>\n",
       "      <td>0.013248</td>\n",
       "    </tr>\n",
       "  </tbody>\n",
       "</table>\n",
       "</div>"
      ],
      "text/plain": [
       "           AMD      INFY      INTC      MSFT        MU\n",
       "Year                                                  \n",
       "2009  0.010935  0.007492  0.008362  0.007763  0.017025\n",
       "2010  0.018034  0.011412  0.012284  0.012202  0.016759\n",
       "2011  0.019433  0.012387  0.009574  0.009278  0.023470\n",
       "2012  0.017950  0.011485  0.009025  0.007369  0.015989\n",
       "2013  0.013619  0.018563  0.011866  0.010820  0.017454\n",
       "2014  0.015874  0.010147  0.007989  0.009622  0.014417\n",
       "2015  0.014513  0.012817  0.010793  0.011351  0.015457\n",
       "2016  0.016388  0.011859  0.011833  0.008488  0.017565\n",
       "2017  0.014344  0.012653  0.012349  0.008286  0.019629\n",
       "2018  0.015773  0.010982  0.011967  0.009997  0.013248"
      ]
     },
     "execution_count": 48,
     "metadata": {},
     "output_type": "execute_result"
    }
   ],
   "source": [
    "Vol_park = pd.DataFrame(vol_park ,columns=['Year','AMD', 'INFY' ,'INTC' ,'MSFT' ,'MU'])\n",
    "Vol_park.set_index('Year')"
   ]
  },
  {
   "cell_type": "markdown",
   "metadata": {},
   "source": [
    "# Range-based volatility by Garman and Klass"
   ]
  },
  {
   "cell_type": "markdown",
   "metadata": {},
   "source": [
    "To calculate range-based volatility by Garman and Klass is given by :\n",
    "\n",
    "    𝜎𝑔𝑘 = ( 1/𝑚 sum( (1/2 ∙ ln(𝐻𝑘/𝐿𝑘)^(2) ) − (2 ln 2 − 1) ln(𝐶𝑘/𝑂𝑘)^(2) )^(0.5)"
   ]
  },
  {
   "cell_type": "code",
   "execution_count": 49,
   "metadata": {},
   "outputs": [],
   "source": [
    "# H = data['High'] -->was declared.\n",
    "# L = data['Low']\n",
    "C = data['Close']\n",
    "O = data['Open']\n",
    "#days_per_year is a array that stores the number of days in each year\n",
    "#days_per_year = [ [2009,252] , [..] ,..] \n",
    "vol_gar_klass = []\n",
    "vol_gar_klass_each_year = []"
   ]
  },
  {
   "cell_type": "code",
   "execution_count": 50,
   "metadata": {},
   "outputs": [],
   "source": [
    "for t in range(len(days_per_year)):\n",
    "    vol_gar_klass_each_year.append(days_per_year[t][0])\n",
    "    for stock in stock_name: \n",
    "        sum_para = np.sum((0.5*np.log(np.power(H[stock][t]/L[stock][t],2))) - (((2*np.log(2))-1)*np.log(np.power(C[stock][t]/O[stock][t],2))))\n",
    "        vol_gar_klass_each_year.append( np.power(((1/days_per_year[t][1]) * sum_para),0.5) )\n",
    "    vol_gar_klass.append(vol_gar_klass_each_year)\n",
    "    vol_gar_klass_each_year = []"
   ]
  },
  {
   "cell_type": "code",
   "execution_count": 51,
   "metadata": {
    "scrolled": true
   },
   "outputs": [
    {
     "data": {
      "text/html": [
       "<div>\n",
       "<style scoped>\n",
       "    .dataframe tbody tr th:only-of-type {\n",
       "        vertical-align: middle;\n",
       "    }\n",
       "\n",
       "    .dataframe tbody tr th {\n",
       "        vertical-align: top;\n",
       "    }\n",
       "\n",
       "    .dataframe thead th {\n",
       "        text-align: right;\n",
       "    }\n",
       "</style>\n",
       "<table border=\"1\" class=\"dataframe\">\n",
       "  <thead>\n",
       "    <tr style=\"text-align: right;\">\n",
       "      <th></th>\n",
       "      <th>AMD</th>\n",
       "      <th>INFY</th>\n",
       "      <th>INTC</th>\n",
       "      <th>MSFT</th>\n",
       "      <th>MU</th>\n",
       "    </tr>\n",
       "    <tr>\n",
       "      <th>Year</th>\n",
       "      <th></th>\n",
       "      <th></th>\n",
       "      <th></th>\n",
       "      <th></th>\n",
       "      <th></th>\n",
       "    </tr>\n",
       "  </thead>\n",
       "  <tbody>\n",
       "    <tr>\n",
       "      <td>2009</td>\n",
       "      <td>0.014900</td>\n",
       "      <td>0.008235</td>\n",
       "      <td>0.010362</td>\n",
       "      <td>0.007936</td>\n",
       "      <td>0.012660</td>\n",
       "    </tr>\n",
       "    <tr>\n",
       "      <td>2010</td>\n",
       "      <td>0.013956</td>\n",
       "      <td>0.010055</td>\n",
       "      <td>0.010204</td>\n",
       "      <td>0.009102</td>\n",
       "      <td>0.013275</td>\n",
       "    </tr>\n",
       "    <tr>\n",
       "      <td>2011</td>\n",
       "      <td>0.012516</td>\n",
       "      <td>0.008201</td>\n",
       "      <td>0.012646</td>\n",
       "      <td>0.008424</td>\n",
       "      <td>0.019735</td>\n",
       "    </tr>\n",
       "    <tr>\n",
       "      <td>2012</td>\n",
       "      <td>0.020323</td>\n",
       "      <td>0.010364</td>\n",
       "      <td>0.007475</td>\n",
       "      <td>0.008590</td>\n",
       "      <td>0.017064</td>\n",
       "    </tr>\n",
       "    <tr>\n",
       "      <td>2013</td>\n",
       "      <td>0.018049</td>\n",
       "      <td>0.017011</td>\n",
       "      <td>0.016398</td>\n",
       "      <td>0.016364</td>\n",
       "      <td>0.024586</td>\n",
       "    </tr>\n",
       "    <tr>\n",
       "      <td>2014</td>\n",
       "      <td>0.015325</td>\n",
       "      <td>0.011947</td>\n",
       "      <td>0.008201</td>\n",
       "      <td>0.007242</td>\n",
       "      <td>0.009617</td>\n",
       "    </tr>\n",
       "    <tr>\n",
       "      <td>2015</td>\n",
       "      <td>0.020109</td>\n",
       "      <td>0.018120</td>\n",
       "      <td>0.015992</td>\n",
       "      <td>0.016717</td>\n",
       "      <td>0.020129</td>\n",
       "    </tr>\n",
       "    <tr>\n",
       "      <td>2016</td>\n",
       "      <td>0.023943</td>\n",
       "      <td>0.013261</td>\n",
       "      <td>0.016601</td>\n",
       "      <td>0.011730</td>\n",
       "      <td>0.024270</td>\n",
       "    </tr>\n",
       "    <tr>\n",
       "      <td>2017</td>\n",
       "      <td>0.018351</td>\n",
       "      <td>0.014591</td>\n",
       "      <td>0.013902</td>\n",
       "      <td>0.006931</td>\n",
       "      <td>0.021787</td>\n",
       "    </tr>\n",
       "    <tr>\n",
       "      <td>2018</td>\n",
       "      <td>0.023234</td>\n",
       "      <td>0.016387</td>\n",
       "      <td>0.016942</td>\n",
       "      <td>0.014456</td>\n",
       "      <td>0.013393</td>\n",
       "    </tr>\n",
       "  </tbody>\n",
       "</table>\n",
       "</div>"
      ],
      "text/plain": [
       "           AMD      INFY      INTC      MSFT        MU\n",
       "Year                                                  \n",
       "2009  0.014900  0.008235  0.010362  0.007936  0.012660\n",
       "2010  0.013956  0.010055  0.010204  0.009102  0.013275\n",
       "2011  0.012516  0.008201  0.012646  0.008424  0.019735\n",
       "2012  0.020323  0.010364  0.007475  0.008590  0.017064\n",
       "2013  0.018049  0.017011  0.016398  0.016364  0.024586\n",
       "2014  0.015325  0.011947  0.008201  0.007242  0.009617\n",
       "2015  0.020109  0.018120  0.015992  0.016717  0.020129\n",
       "2016  0.023943  0.013261  0.016601  0.011730  0.024270\n",
       "2017  0.018351  0.014591  0.013902  0.006931  0.021787\n",
       "2018  0.023234  0.016387  0.016942  0.014456  0.013393"
      ]
     },
     "execution_count": 51,
     "metadata": {},
     "output_type": "execute_result"
    }
   ],
   "source": [
    "Vol_gar_klass = pd.DataFrame(vol_gar_klass ,columns=['Year','AMD', 'INFY' ,'INTC' ,'MSFT' ,'MU'])\n",
    "Vol_gar_klass.set_index('Year')"
   ]
  },
  {
   "cell_type": "markdown",
   "metadata": {},
   "source": [
    "# Time dependent weighted volatility"
   ]
  },
  {
   "cell_type": "markdown",
   "metadata": {},
   "source": [
    "This is the Exponential Weighted Moving Average (EWMA) model for the variance.\n",
    "\n",
    "    𝜎𝑒𝑤𝑚𝑎^(2) (𝑡) = (1 − λ) ∙ sum(λ^(𝑘−1) ∙ 𝑟(𝑡−𝑘)^(2) )\n",
    "    \n",
    "A good decay factor for developed markets has been estimates by J.P. Morgan’s RiskMetrics methodology to be λ=0.94."
   ]
  },
  {
   "cell_type": "code",
   "execution_count": 108,
   "metadata": {},
   "outputs": [],
   "source": [
    "r = log_returns\n",
    "lamdha = []\n",
    "lamdha_each_year = []\n",
    "ewma = []\n",
    "ewma_each_year = []\n",
    "date = simple_returns.reset_index()[\"Date\"].dt \n",
    "year = date.year.values.tolist()"
   ]
  },
  {
   "cell_type": "code",
   "execution_count": 109,
   "metadata": {},
   "outputs": [],
   "source": [
    "for t in range(len(days_per_year)):\n",
    "    for k in range(1,days_per_year[t][1]+1):\n",
    "        lamdha_each_year.append(np.power(0.94,k-1))\n",
    "    lamdha.append([days_per_year[t][0],lamdha_each_year])\n",
    "    lamdha_each_year = []"
   ]
  },
  {
   "cell_type": "code",
   "execution_count": 110,
   "metadata": {},
   "outputs": [],
   "source": [
    "L = pd.DataFrame(lamdha,columns=['Year','lamdha'])\n",
    "L = L.set_index('Year')\n",
    "L = L.transpose()"
   ]
  },
  {
   "cell_type": "code",
   "execution_count": 111,
   "metadata": {},
   "outputs": [],
   "source": [
    "total_days = 0\n",
    "sum_ = 0\n",
    "for t in range(len(days_per_year)):\n",
    "    total_days = total_days + days_per_year[t][1]\n",
    "    ewma_each_year.append(days_per_year[t][0])\n",
    "    for stock in stock_name: \n",
    "        for k in range(days_per_year[t][1]):\n",
    "            sum_ = sum_ + (L[days_per_year[t][0]][0][k] * np.power(r[stock][total_days-k] ,2))\n",
    "        ewma_each_year.append( (1-0.94)*sum_)\n",
    "    ewma.append(ewma_each_year)\n",
    "    ewma_each_year = []\n",
    "    sum_ = 0"
   ]
  },
  {
   "cell_type": "code",
   "execution_count": 112,
   "metadata": {},
   "outputs": [
    {
     "data": {
      "text/plain": [
       "[[2009,\n",
       "  0.0011229777462403972,\n",
       "  0.0013170941837212762,\n",
       "  0.0015337855466109132,\n",
       "  0.0016652445877045315,\n",
       "  0.0024859271093941038],\n",
       " [2010,\n",
       "  0.000240242404256687,\n",
       "  0.00036751493755317793,\n",
       "  0.0004317108118013609,\n",
       "  0.0005220943318386557,\n",
       "  0.0010106486466206818],\n",
       " [2011,\n",
       "  0.0012732278727289844,\n",
       "  0.0017886163228487747,\n",
       "  0.002158640359406973,\n",
       "  0.002319051221654958,\n",
       "  0.0049377647036916205],\n",
       " [2012,\n",
       "  0.0014285081977073386,\n",
       "  0.0015867677413203124,\n",
       "  0.0017437982613747647,\n",
       "  0.001883305640905073,\n",
       "  0.0025565972941152693],\n",
       " [2013,\n",
       "  0.00030202940693903276,\n",
       "  0.0004340151316744138,\n",
       "  0.0005863758639872895,\n",
       "  0.0007387444042724763,\n",
       "  0.0012614890313600005],\n",
       " [2014,\n",
       "  0.0004122675032100126,\n",
       "  0.000660634693636838,\n",
       "  0.0008756201242162871,\n",
       "  0.0010764835608482336,\n",
       "  0.0013874017997017386],\n",
       " [2015,\n",
       "  0.0013944131013233943,\n",
       "  0.0016227186219453713,\n",
       "  0.0018150695457042328,\n",
       "  0.0020504401336714473,\n",
       "  0.0027550421942554586],\n",
       " [2016,\n",
       "  0.0014748187205266103,\n",
       "  0.0016031215769919094,\n",
       "  0.0017543541181271362,\n",
       "  0.0018861166436348934,\n",
       "  0.002345582389385815],\n",
       " [2017,\n",
       "  0.000849039640184929,\n",
       "  0.0009827934081078498,\n",
       "  0.0012431316738230613,\n",
       "  0.0014149629731251673,\n",
       "  0.0020880039774466906],\n",
       " [2018,\n",
       "  0.002713843840456212,\n",
       "  0.0030224338635928614,\n",
       "  0.0034852426714262375,\n",
       "  0.0039698755664915085,\n",
       "  0.004988866381783094]]"
      ]
     },
     "execution_count": 112,
     "metadata": {},
     "output_type": "execute_result"
    }
   ],
   "source": [
    "E = pd.DataFrame(ewma ,columns=['Year','AMD', 'INFY' ,'INTC' ,'MSFT' ,'MU'])\n",
    "ewma.set_index('Year')"
   ]
  }
 ],
 "metadata": {
  "kernelspec": {
   "display_name": "Python 3",
   "language": "python",
   "name": "python3"
  },
  "language_info": {
   "codemirror_mode": {
    "name": "ipython",
    "version": 3
   },
   "file_extension": ".py",
   "mimetype": "text/x-python",
   "name": "python",
   "nbconvert_exporter": "python",
   "pygments_lexer": "ipython3",
   "version": "3.7.0"
  }
 },
 "nbformat": 4,
 "nbformat_minor": 2
}
